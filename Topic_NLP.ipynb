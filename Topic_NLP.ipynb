{
 "cells": [
  {
   "cell_type": "code",
   "execution_count": 1,
   "metadata": {},
   "outputs": [],
   "source": [
    "import nltk\n",
    "import re\n",
    "import numpy as np\n",
    "import pandas as pd\n",
    "from pprint import pprint\n",
    "\n",
    "# Gensim\n",
    "import gensim\n",
    "import gensim.corpora as corpora\n",
    "from gensim.utils import simple_preprocess\n",
    "from gensim.models import CoherenceModel\n",
    "\n",
    "# spacy for lemmatization\n",
    "import spacy\n",
    "\n",
    "# Plotting tools\n",
    "import pyLDAvis\n",
    "import pyLDAvis.gensim  # don't skip this\n",
    "import matplotlib.pyplot as plt\n",
    "%matplotlib inline\n",
    "\n",
    "# Enable logging for gensim - optional\n",
    "import logging\n",
    "logging.basicConfig(format='%(asctime)s : %(levelname)s : %(message)s', level=logging.ERROR)\n",
    "\n",
    "import warnings\n",
    "warnings.filterwarnings(\"ignore\",category=DeprecationWarning)"
   ]
  },
  {
   "cell_type": "code",
   "execution_count": 2,
   "metadata": {},
   "outputs": [],
   "source": [
    "# NLTK Stop words\n",
    "from nltk.corpus import stopwords\n",
    "stop_words = stopwords.words('english')\n",
    "stop_words.extend(['from', 'subject', 're', 'edu', 'use'])"
   ]
  },
  {
   "cell_type": "code",
   "execution_count": 3,
   "metadata": {},
   "outputs": [
    {
     "name": "stdout",
     "output_type": "stream",
     "text": [
      "['rec.autos' 'comp.sys.mac.hardware' 'comp.graphics' 'sci.space'\n",
      " 'talk.politics.guns' 'sci.med' 'comp.sys.ibm.pc.hardware'\n",
      " 'comp.os.ms-windows.misc' 'rec.motorcycles' 'talk.religion.misc'\n",
      " 'misc.forsale' 'alt.atheism' 'sci.electronics' 'comp.windows.x'\n",
      " 'rec.sport.hockey' 'rec.sport.baseball' 'soc.religion.christian'\n",
      " 'talk.politics.mideast' 'talk.politics.misc' 'sci.crypt']\n"
     ]
    },
    {
     "data": {
      "text/html": [
       "<div>\n",
       "<style scoped>\n",
       "    .dataframe tbody tr th:only-of-type {\n",
       "        vertical-align: middle;\n",
       "    }\n",
       "\n",
       "    .dataframe tbody tr th {\n",
       "        vertical-align: top;\n",
       "    }\n",
       "\n",
       "    .dataframe thead th {\n",
       "        text-align: right;\n",
       "    }\n",
       "</style>\n",
       "<table border=\"1\" class=\"dataframe\">\n",
       "  <thead>\n",
       "    <tr style=\"text-align: right;\">\n",
       "      <th></th>\n",
       "      <th>content</th>\n",
       "      <th>target</th>\n",
       "      <th>target_names</th>\n",
       "    </tr>\n",
       "  </thead>\n",
       "  <tbody>\n",
       "    <tr>\n",
       "      <th>0</th>\n",
       "      <td>From: lerxst@wam.umd.edu (where's my thing)\\nS...</td>\n",
       "      <td>7</td>\n",
       "      <td>rec.autos</td>\n",
       "    </tr>\n",
       "    <tr>\n",
       "      <th>1</th>\n",
       "      <td>From: guykuo@carson.u.washington.edu (Guy Kuo)...</td>\n",
       "      <td>4</td>\n",
       "      <td>comp.sys.mac.hardware</td>\n",
       "    </tr>\n",
       "    <tr>\n",
       "      <th>2</th>\n",
       "      <td>From: twillis@ec.ecn.purdue.edu (Thomas E Will...</td>\n",
       "      <td>4</td>\n",
       "      <td>comp.sys.mac.hardware</td>\n",
       "    </tr>\n",
       "    <tr>\n",
       "      <th>3</th>\n",
       "      <td>From: jgreen@amber (Joe Green)\\nSubject: Re: W...</td>\n",
       "      <td>1</td>\n",
       "      <td>comp.graphics</td>\n",
       "    </tr>\n",
       "    <tr>\n",
       "      <th>4</th>\n",
       "      <td>From: jcm@head-cfa.harvard.edu (Jonathan McDow...</td>\n",
       "      <td>14</td>\n",
       "      <td>sci.space</td>\n",
       "    </tr>\n",
       "  </tbody>\n",
       "</table>\n",
       "</div>"
      ],
      "text/plain": [
       "                                             content  target  \\\n",
       "0  From: lerxst@wam.umd.edu (where's my thing)\\nS...       7   \n",
       "1  From: guykuo@carson.u.washington.edu (Guy Kuo)...       4   \n",
       "2  From: twillis@ec.ecn.purdue.edu (Thomas E Will...       4   \n",
       "3  From: jgreen@amber (Joe Green)\\nSubject: Re: W...       1   \n",
       "4  From: jcm@head-cfa.harvard.edu (Jonathan McDow...      14   \n",
       "\n",
       "            target_names  \n",
       "0              rec.autos  \n",
       "1  comp.sys.mac.hardware  \n",
       "2  comp.sys.mac.hardware  \n",
       "3          comp.graphics  \n",
       "4              sci.space  "
      ]
     },
     "execution_count": 3,
     "metadata": {},
     "output_type": "execute_result"
    }
   ],
   "source": [
    "# Import Dataset\n",
    "df = pd.read_json('https://raw.githubusercontent.com/selva86/datasets/master/newsgroups.json')\n",
    "print(df.target_names.unique())\n",
    "df.head()"
   ]
  },
  {
   "cell_type": "code",
   "execution_count": 4,
   "metadata": {},
   "outputs": [
    {
     "name": "stdout",
     "output_type": "stream",
     "text": [
      "['From: (wheres my thing) Subject: WHAT car is this!? Nntp-Posting-Host: '\n",
      " 'rac3.wam.umd.edu Organization: University of Maryland, College Park Lines: '\n",
      " '15 I was wondering if anyone out there could enlighten me on this car I saw '\n",
      " 'the other day. It was a 2-door sports car, looked to be from the late 60s/ '\n",
      " 'early 70s. It was called a Bricklin. The doors were really small. In '\n",
      " 'addition, the front bumper was separate from the rest of the body. This is '\n",
      " 'all I know. If anyone can tellme a model name, engine specs, years of '\n",
      " 'production, where this car is made, history, or whatever info you have on '\n",
      " 'this funky looking car, please e-mail. Thanks, - IL ---- brought to you by '\n",
      " 'your neighborhood Lerxst ---- ']\n"
     ]
    }
   ],
   "source": [
    "#Sentence boundary identification\n",
    "\n",
    "# Convert to list\n",
    "data = df.content.values.tolist()\n",
    "\n",
    "# Remove Emails\n",
    "data = [re.sub('\\S*@\\S*\\s?', '', sent) for sent in data]\n",
    "\n",
    "# Remove new line characters\n",
    "data = [re.sub('\\s+', ' ', sent) for sent in data]\n",
    "\n",
    "# Remove distracting single quotes\n",
    "data = [re.sub(\"\\'\", \"\", sent) for sent in data]\n",
    "\n",
    "pprint(data[:1])"
   ]
  },
  {
   "cell_type": "code",
   "execution_count": 5,
   "metadata": {},
   "outputs": [
    {
     "name": "stdout",
     "output_type": "stream",
     "text": [
      "[['from', 'wheres', 'my', 'thing', 'subject', 'what', 'car', 'is', 'this', 'nntp', 'posting', 'host', 'rac', 'wam', 'umd', 'edu', 'organization', 'university', 'of', 'maryland', 'college', 'park', 'lines', 'was', 'wondering', 'if', 'anyone', 'out', 'there', 'could', 'enlighten', 'me', 'on', 'this', 'car', 'saw', 'the', 'other', 'day', 'it', 'was', 'door', 'sports', 'car', 'looked', 'to', 'be', 'from', 'the', 'late', 'early', 'it', 'was', 'called', 'bricklin', 'the', 'doors', 'were', 'really', 'small', 'in', 'addition', 'the', 'front', 'bumper', 'was', 'separate', 'from', 'the', 'rest', 'of', 'the', 'body', 'this', 'is', 'all', 'know', 'if', 'anyone', 'can', 'tellme', 'model', 'name', 'engine', 'specs', 'years', 'of', 'production', 'where', 'this', 'car', 'is', 'made', 'history', 'or', 'whatever', 'info', 'you', 'have', 'on', 'this', 'funky', 'looking', 'car', 'please', 'mail', 'thanks', 'il', 'brought', 'to', 'you', 'by', 'your', 'neighborhood', 'lerxst']]\n",
      "[('from', 'IN'), ('wheres', 'NNS'), ('my', 'PRP$'), ('thing', 'NN'), ('subject', 'VB'), ('what', 'WP'), ('car', 'NN'), ('is', 'VBZ'), ('this', 'DT'), ('nntp', 'JJ'), ('posting', 'VBG'), ('host', 'NN'), ('rac', 'NN'), ('wam', 'NN'), ('umd', 'JJ'), ('edu', 'JJ'), ('organization', 'NN'), ('university', 'NN'), ('of', 'IN'), ('maryland', 'NN'), ('college', 'NN'), ('park', 'NN'), ('lines', 'NNS'), ('was', 'VBD'), ('wondering', 'VBG'), ('if', 'IN'), ('anyone', 'NN'), ('out', 'IN'), ('there', 'RB'), ('could', 'MD'), ('enlighten', 'VB'), ('me', 'PRP'), ('on', 'IN'), ('this', 'DT'), ('car', 'NN'), ('saw', 'VBD'), ('the', 'DT'), ('other', 'JJ'), ('day', 'NN'), ('it', 'PRP'), ('was', 'VBD'), ('door', 'JJ'), ('sports', 'NNS'), ('car', 'NN'), ('looked', 'VBD'), ('to', 'TO'), ('be', 'VB'), ('from', 'IN'), ('the', 'DT'), ('late', 'JJ'), ('early', 'JJ'), ('it', 'PRP'), ('was', 'VBD'), ('called', 'VBN'), ('bricklin', 'RB'), ('the', 'DT'), ('doors', 'NNS'), ('were', 'VBD'), ('really', 'RB'), ('small', 'JJ'), ('in', 'IN'), ('addition', 'NN'), ('the', 'DT'), ('front', 'NN'), ('bumper', 'NN'), ('was', 'VBD'), ('separate', 'JJ'), ('from', 'IN'), ('the', 'DT'), ('rest', 'NN'), ('of', 'IN'), ('the', 'DT'), ('body', 'NN'), ('this', 'DT'), ('is', 'VBZ'), ('all', 'DT'), ('know', 'VBP'), ('if', 'IN'), ('anyone', 'NN'), ('can', 'MD'), ('tellme', 'VB'), ('model', 'NN'), ('name', 'NN'), ('engine', 'NN'), ('specs', 'CD'), ('years', 'NNS'), ('of', 'IN'), ('production', 'NN'), ('where', 'WRB'), ('this', 'DT'), ('car', 'NN'), ('is', 'VBZ'), ('made', 'VBN'), ('history', 'NN'), ('or', 'CC'), ('whatever', 'WDT'), ('info', 'VBP'), ('you', 'PRP'), ('have', 'VBP'), ('on', 'IN'), ('this', 'DT'), ('funky', 'NN'), ('looking', 'VBG'), ('car', 'NN'), ('please', 'JJ'), ('mail', 'NN'), ('thanks', 'NNS'), ('il', 'VBP'), ('brought', 'VBN'), ('to', 'TO'), ('you', 'PRP'), ('by', 'IN'), ('your', 'PRP$'), ('neighborhood', 'NN'), ('lerxst', 'NN')]\n"
     ]
    }
   ],
   "source": [
    "#tokenization\n",
    "def sent_to_words(sentences):\n",
    "    for sentence in sentences:\n",
    "        yield(gensim.utils.simple_preprocess(str(sentence), deacc=True))  # deacc=True removes punctuations\n",
    "\n",
    "data_words = list(sent_to_words(data))\n",
    "\n",
    "print(data_words[:1])\n",
    "\n",
    "#POS tagging\n",
    "print(nltk.pos_tag(data_words[0]))"
   ]
  },
  {
   "cell_type": "code",
   "execution_count": 6,
   "metadata": {},
   "outputs": [
    {
     "name": "stdout",
     "output_type": "stream",
     "text": [
      "['from', 'wheres', 'my', 'thing', 'subject', 'what', 'car', 'is', 'this', 'nntp_posting_host', 'rac_wam_umd_edu', 'organization', 'university', 'of', 'maryland_college_park', 'lines', 'was', 'wondering', 'if', 'anyone', 'out', 'there', 'could', 'enlighten', 'me', 'on', 'this', 'car', 'saw', 'the', 'other', 'day', 'it', 'was', 'door', 'sports', 'car', 'looked', 'to', 'be', 'from', 'the', 'late', 'early', 'it', 'was', 'called', 'bricklin', 'the', 'doors', 'were', 'really', 'small', 'in', 'addition', 'the', 'front_bumper', 'was', 'separate', 'from', 'the', 'rest', 'of', 'the', 'body', 'this', 'is', 'all', 'know', 'if', 'anyone', 'can', 'tellme', 'model', 'name', 'engine', 'specs', 'years', 'of', 'production', 'where', 'this', 'car', 'is', 'made', 'history', 'or', 'whatever', 'info', 'you', 'have', 'on', 'this', 'funky', 'looking', 'car', 'please', 'mail', 'thanks', 'il', 'brought', 'to', 'you', 'by', 'your', 'neighborhood', 'lerxst']\n"
     ]
    }
   ],
   "source": [
    "# Build the bigram and trigram models\n",
    "bigram = gensim.models.Phrases(data_words, min_count=5, threshold=100) # higher threshold fewer phrases.\n",
    "trigram = gensim.models.Phrases(bigram[data_words], threshold=100)  \n",
    "\n",
    "# Faster way to get a sentence clubbed as a trigram/bigram\n",
    "bigram_mod = gensim.models.phrases.Phraser(bigram)\n",
    "trigram_mod = gensim.models.phrases.Phraser(trigram)\n",
    "\n",
    "# See trigram example\n",
    "print(trigram_mod[bigram_mod[data_words[0]]])"
   ]
  },
  {
   "cell_type": "code",
   "execution_count": 7,
   "metadata": {},
   "outputs": [],
   "source": [
    "# Define functions for stopwords, bigrams, trigrams and lemmatization\n",
    "def remove_stopwords(texts):\n",
    "    return [[word for word in simple_preprocess(str(doc)) if word not in stop_words] for doc in texts]\n",
    "\n",
    "def make_bigrams(texts):\n",
    "    return [bigram_mod[doc] for doc in texts]\n",
    "\n",
    "def make_trigrams(texts):\n",
    "    return [trigram_mod[bigram_mod[doc]] for doc in texts]\n",
    "\n",
    "def lemmatization(texts, allowed_postags=['NOUN', 'ADJ', 'VERB', 'ADV']):\n",
    "    \"\"\"https://spacy.io/api/annotation\"\"\"\n",
    "    texts_out = []\n",
    "    for sent in texts:\n",
    "        doc = nlp(\" \".join(sent)) \n",
    "        texts_out.append([token.lemma_ for token in doc if token.pos_ in allowed_postags])\n",
    "    return texts_out"
   ]
  },
  {
   "cell_type": "code",
   "execution_count": 8,
   "metadata": {},
   "outputs": [
    {
     "name": "stdout",
     "output_type": "stream",
     "text": [
      "[['where', 's', 'thing', 'car', 'nntp_posting', 'host', 'line', 'wonder', 'enlighten', 'car', 'see', 'day', 'door', 'sport', 'car', 'look', 'late', 'early', 'call', 'door', 'really', 'small', 'addition', 'front_bumper', 'separate', 'rest', 'body', 'know', 'year', 'production', 'car', 'make', 'history', 'info', 'funky', 'look', 'car', 'mail', 'thank', 'bring', 'neighborhood', 'lerxst']]\n"
     ]
    }
   ],
   "source": [
    "\n",
    "# Remove Stop Words\n",
    "data_words_nostops = remove_stopwords(data_words)\n",
    "\n",
    "# Form Bigrams\n",
    "data_words_bigrams = make_bigrams(data_words_nostops)\n",
    "\n",
    "\n",
    "#Semantic Analysis wordnet\n",
    "# Initialize spacy 'en' model, keeping only tagger component (for efficiency)\n",
    "# python3 -m spacy download en\n",
    "nlp = spacy.load('en_core_web_sm', disable=['parser', 'ner'])\n",
    "\n",
    "# Do lemmatization keeping only noun, adj, vb, adv\n",
    "data_lemmatized = lemmatization(data_words_bigrams, allowed_postags=['NOUN', 'ADJ', 'VERB', 'ADV'])\n",
    "\n",
    "print(data_lemmatized[:1])"
   ]
  },
  {
   "cell_type": "code",
   "execution_count": 9,
   "metadata": {},
   "outputs": [
    {
     "name": "stdout",
     "output_type": "stream",
     "text": [
      "[[(0, 1), (1, 1), (2, 1), (3, 1), (4, 5), (5, 1), (6, 2), (7, 1), (8, 1), (9, 1), (10, 1), (11, 1), (12, 1), (13, 1), (14, 1), (15, 1), (16, 1), (17, 1), (18, 2), (19, 1), (20, 1), (21, 1), (22, 1), (23, 1), (24, 1), (25, 1), (26, 1), (27, 1), (28, 1), (29, 1), (30, 1), (31, 1), (32, 1), (33, 1), (34, 1), (35, 1)]]\n"
     ]
    }
   ],
   "source": [
    "# Create Dictionary\n",
    "id2word = corpora.Dictionary(data_lemmatized)\n",
    "\n",
    "# Create Corpus\n",
    "texts = data_lemmatized\n",
    "\n",
    "# Term Document Frequency\n",
    "corpus = [id2word.doc2bow(text) for text in texts]\n",
    "\n",
    "# View\n",
    "print(corpus[:1])"
   ]
  },
  {
   "cell_type": "code",
   "execution_count": 10,
   "metadata": {},
   "outputs": [],
   "source": [
    "# Build LDA model\n",
    "lda_model = gensim.models.ldamodel.LdaModel(corpus=corpus,\n",
    "                                           id2word=id2word,\n",
    "                                           num_topics=10, \n",
    "                                           random_state=100,\n",
    "                                           update_every=1,\n",
    "                                           chunksize=100,\n",
    "                                           passes=10,\n",
    "                                           alpha='auto',\n",
    "                                           per_word_topics=True)"
   ]
  },
  {
   "cell_type": "code",
   "execution_count": 11,
   "metadata": {},
   "outputs": [
    {
     "name": "stdout",
     "output_type": "stream",
     "text": [
      "[(0,\n",
      "  '0.018*\"people\" + 0.014*\"say\" + 0.012*\"believe\" + 0.011*\"evidence\" + '\n",
      "  '0.011*\"reason\" + 0.008*\"claim\" + 0.007*\"fact\" + 0.007*\"man\" + 0.007*\"mean\" '\n",
      "  '+ 0.006*\"sense\"'),\n",
      " (1,\n",
      "  '0.027*\"write\" + 0.021*\"line\" + 0.017*\"article\" + 0.016*\"know\" + 0.015*\"be\" '\n",
      "  '+ 0.015*\"go\" + 0.013*\"make\" + 0.013*\"get\" + 0.012*\"good\" + 0.012*\"time\"'),\n",
      " (2,\n",
      "  '0.022*\"gun\" + 0.019*\"kill\" + 0.012*\"people\" + 0.012*\"government\" + '\n",
      "  '0.010*\"soldier\" + 0.009*\"attack\" + 0.009*\"fire\" + 0.009*\"war\" + '\n",
      "  '0.009*\"crime\" + 0.009*\"death\"'),\n",
      " (3,\n",
      "  '0.187*\"ax\" + 0.024*\"notice\" + 0.022*\"_\" + 0.017*\"external\" + '\n",
      "  '0.017*\"clipper_chip\" + 0.015*\"law_enforcement\" + 0.014*\"hole\" + '\n",
      "  '0.014*\"install\" + 0.013*\"rsa\" + 0.012*\"sphere\"'),\n",
      " (4,\n",
      "  '0.037*\"key\" + 0.021*\"public\" + 0.018*\"government\" + 0.012*\"choose\" + '\n",
      "  '0.011*\"state\" + 0.011*\"encryption\" + 0.009*\"right\" + 0.009*\"security\" + '\n",
      "  '0.009*\"private\" + 0.007*\"block\"'),\n",
      " (5,\n",
      "  '0.023*\"car\" + 0.015*\"price\" + 0.015*\"power\" + 0.014*\"sell\" + 0.012*\"new\" + '\n",
      "  '0.011*\"cost\" + 0.011*\"buy\" + 0.009*\"sale\" + 0.009*\"high\" + 0.008*\"low\"'),\n",
      " (6,\n",
      "  '0.016*\"program\" + 0.015*\"file\" + 0.015*\"mail\" + 0.013*\"information\" + '\n",
      "  '0.012*\"use\" + 0.012*\"include\" + 0.011*\"thank\" + 0.011*\"line\" + '\n",
      "  '0.011*\"window\" + 0.010*\"available\"'),\n",
      " (7,\n",
      "  '0.045*\"space\" + 0.022*\"launch\" + 0.019*\"orbit\" + 0.016*\"mission\" + '\n",
      "  '0.014*\"satellite\" + 0.013*\"plane\" + 0.013*\"flight\" + 0.012*\"earth\" + '\n",
      "  '0.010*\"attitude\" + 0.010*\"sector\"'),\n",
      " (8,\n",
      "  '0.027*\"system\" + 0.026*\"drive\" + 0.022*\"use\" + 0.016*\"card\" + '\n",
      "  '0.013*\"computer\" + 0.013*\"driver\" + 0.012*\"need\" + 0.012*\"problem\" + '\n",
      "  '0.011*\"chip\" + 0.011*\"bit\"'),\n",
      " (9,\n",
      "  '0.051*\"team\" + 0.041*\"game\" + 0.029*\"play\" + 0.025*\"year\" + 0.023*\"player\" '\n",
      "  '+ 0.022*\"win\" + 0.016*\"season\" + 0.014*\"fan\" + 0.013*\"score\" + '\n",
      "  '0.011*\"hockey\"')]\n"
     ]
    }
   ],
   "source": [
    "pprint(lda_model.print_topics())\n",
    "doc_lda = lda_model[corpus]"
   ]
  },
  {
   "cell_type": "code",
   "execution_count": 12,
   "metadata": {},
   "outputs": [
    {
     "name": "stdout",
     "output_type": "stream",
     "text": [
      "\n",
      "Perplexity:  -8.782438358680931\n",
      "\n",
      "Coherence Score:  0.559765667449902\n"
     ]
    }
   ],
   "source": [
    "# Compute Perplexity\n",
    "print('\\nPerplexity: ', lda_model.log_perplexity(corpus))  # a measure of how good the model is. lower the better.\n",
    "\n",
    "# Compute Coherence Score\n",
    "coherence_model_lda = CoherenceModel(model=lda_model, texts=data_lemmatized, dictionary=id2word, coherence='c_v')\n",
    "coherence_lda = coherence_model_lda.get_coherence()\n",
    "print('\\nCoherence Score: ', coherence_lda)"
   ]
  },
  {
   "cell_type": "code",
   "execution_count": 14,
   "metadata": {},
   "outputs": [
    {
     "name": "stderr",
     "output_type": "stream",
     "text": [
      "c:\\python3.7\\lib\\site-packages\\pyLDAvis\\_prepare.py:257: FutureWarning: Sorting because non-concatenation axis is not aligned. A future version\n",
      "of pandas will change to not sort by default.\n",
      "\n",
      "To accept the future behavior, pass 'sort=False'.\n",
      "\n",
      "To retain the current behavior and silence the warning, pass 'sort=True'.\n",
      "\n",
      "  return pd.concat([default_term_info] + list(topic_dfs))\n"
     ]
    }
   ],
   "source": [
    "# Visualize the topics\n",
    "#pyLDAvis.enable_notebook()\n",
    "vis = pyLDAvis.gensim.prepare(lda_model, corpus, id2word)"
   ]
  },
  {
   "cell_type": "code",
   "execution_count": 15,
   "metadata": {},
   "outputs": [
    {
     "data": {
      "text/html": [
       "\n",
       "<link rel=\"stylesheet\" type=\"text/css\" href=\"https://cdn.rawgit.com/bmabey/pyLDAvis/files/ldavis.v1.0.0.css\">\n",
       "\n",
       "\n",
       "<div id=\"ldavis_el370828728070838488235805937\"></div>\n",
       "<script type=\"text/javascript\">\n",
       "\n",
       "var ldavis_el370828728070838488235805937_data = {\"mdsDat\": {\"x\": [-0.2599630876059391, -0.2095636543868114, -0.19185673825448396, -0.11447090197294857, 0.038619689537336334, 0.03504769862233685, 0.06246934838598153, 0.15068501965990239, 0.2516997690884081, 0.23733285692621903], \"y\": [0.05990468100206927, 0.17416512121823086, -0.13415191831719694, -0.24745658040779955, -0.1644843930025508, 0.11612249348054149, 0.26237555222446635, -0.0005927246796847129, -0.026131510712289613, -0.03975072080578655], \"topics\": [1, 2, 3, 4, 5, 6, 7, 8, 9, 10], \"cluster\": [1, 1, 1, 1, 1, 1, 1, 1, 1, 1], \"Freq\": [36.93937301635742, 19.388965606689453, 12.437111854553223, 8.094056129455566, 6.382493495941162, 5.35951042175293, 5.2461137771606445, 3.0124287605285645, 1.8615758419036865, 1.2783706188201904]}, \"tinfo\": {\"Category\": [\"Default\", \"Default\", \"Default\", \"Default\", \"Default\", \"Default\", \"Default\", \"Default\", \"Default\", \"Default\", \"Default\", \"Default\", \"Default\", \"Default\", \"Default\", \"Default\", \"Default\", \"Default\", \"Default\", \"Default\", \"Default\", \"Default\", \"Default\", \"Default\", \"Default\", \"Default\", \"Default\", \"Default\", \"Default\", \"Default\", \"Topic1\", \"Topic1\", \"Topic1\", \"Topic1\", \"Topic1\", \"Topic1\", \"Topic1\", \"Topic1\", \"Topic1\", \"Topic1\", \"Topic1\", \"Topic1\", \"Topic1\", \"Topic1\", \"Topic1\", \"Topic1\", \"Topic1\", \"Topic1\", \"Topic1\", \"Topic1\", \"Topic1\", \"Topic1\", \"Topic1\", \"Topic1\", \"Topic1\", \"Topic1\", \"Topic1\", \"Topic1\", \"Topic1\", \"Topic1\", \"Topic1\", \"Topic1\", \"Topic1\", \"Topic1\", \"Topic1\", \"Topic1\", \"Topic1\", \"Topic1\", \"Topic1\", \"Topic1\", \"Topic1\", \"Topic1\", \"Topic1\", \"Topic1\", \"Topic1\", \"Topic1\", \"Topic1\", \"Topic1\", \"Topic1\", \"Topic1\", \"Topic1\", \"Topic1\", \"Topic1\", \"Topic1\", \"Topic1\", \"Topic1\", \"Topic1\", \"Topic1\", \"Topic1\", \"Topic1\", \"Topic1\", \"Topic1\", \"Topic2\", \"Topic2\", \"Topic2\", \"Topic2\", \"Topic2\", \"Topic2\", \"Topic2\", \"Topic2\", \"Topic2\", \"Topic2\", \"Topic2\", \"Topic2\", \"Topic2\", \"Topic2\", \"Topic2\", \"Topic2\", \"Topic2\", \"Topic2\", \"Topic2\", \"Topic2\", \"Topic2\", \"Topic2\", \"Topic2\", \"Topic2\", \"Topic2\", \"Topic2\", \"Topic2\", \"Topic2\", \"Topic2\", \"Topic2\", \"Topic2\", \"Topic2\", \"Topic2\", \"Topic2\", \"Topic2\", \"Topic2\", \"Topic2\", \"Topic2\", \"Topic2\", \"Topic2\", \"Topic2\", \"Topic2\", \"Topic2\", \"Topic2\", \"Topic2\", \"Topic2\", \"Topic2\", \"Topic2\", \"Topic2\", \"Topic2\", \"Topic2\", \"Topic2\", \"Topic2\", \"Topic2\", \"Topic2\", \"Topic2\", \"Topic2\", \"Topic2\", \"Topic2\", \"Topic3\", \"Topic3\", \"Topic3\", \"Topic3\", \"Topic3\", \"Topic3\", \"Topic3\", \"Topic3\", \"Topic3\", \"Topic3\", \"Topic3\", \"Topic3\", \"Topic3\", \"Topic3\", \"Topic3\", \"Topic3\", \"Topic3\", \"Topic3\", \"Topic3\", \"Topic3\", \"Topic3\", \"Topic3\", \"Topic3\", \"Topic3\", \"Topic3\", \"Topic3\", \"Topic3\", \"Topic3\", \"Topic3\", \"Topic3\", \"Topic3\", \"Topic3\", \"Topic3\", \"Topic3\", \"Topic3\", \"Topic3\", \"Topic3\", \"Topic3\", \"Topic3\", \"Topic3\", \"Topic3\", \"Topic3\", \"Topic3\", \"Topic3\", \"Topic3\", \"Topic3\", \"Topic3\", \"Topic3\", \"Topic3\", \"Topic3\", \"Topic3\", \"Topic4\", \"Topic4\", \"Topic4\", \"Topic4\", \"Topic4\", \"Topic4\", \"Topic4\", \"Topic4\", \"Topic4\", \"Topic4\", \"Topic4\", \"Topic4\", \"Topic4\", \"Topic4\", \"Topic4\", \"Topic4\", \"Topic4\", \"Topic4\", \"Topic4\", \"Topic4\", \"Topic4\", \"Topic4\", \"Topic4\", \"Topic4\", \"Topic4\", \"Topic4\", \"Topic4\", \"Topic4\", \"Topic4\", \"Topic4\", \"Topic4\", \"Topic4\", \"Topic4\", \"Topic4\", \"Topic4\", \"Topic4\", \"Topic4\", \"Topic4\", \"Topic4\", \"Topic4\", \"Topic4\", \"Topic4\", \"Topic4\", \"Topic4\", \"Topic4\", \"Topic4\", \"Topic5\", \"Topic5\", \"Topic5\", \"Topic5\", \"Topic5\", \"Topic5\", \"Topic5\", \"Topic5\", \"Topic5\", \"Topic5\", \"Topic5\", \"Topic5\", \"Topic5\", \"Topic5\", \"Topic5\", \"Topic5\", \"Topic5\", \"Topic5\", \"Topic5\", \"Topic5\", \"Topic5\", \"Topic5\", \"Topic5\", \"Topic5\", \"Topic5\", \"Topic5\", \"Topic5\", \"Topic5\", \"Topic5\", \"Topic5\", \"Topic5\", \"Topic5\", \"Topic5\", \"Topic5\", \"Topic5\", \"Topic5\", \"Topic5\", \"Topic5\", \"Topic5\", \"Topic5\", \"Topic5\", \"Topic5\", \"Topic5\", \"Topic5\", \"Topic5\", \"Topic5\", \"Topic6\", \"Topic6\", \"Topic6\", \"Topic6\", \"Topic6\", \"Topic6\", \"Topic6\", \"Topic6\", \"Topic6\", \"Topic6\", \"Topic6\", \"Topic6\", \"Topic6\", \"Topic6\", \"Topic6\", \"Topic6\", \"Topic6\", \"Topic6\", \"Topic6\", \"Topic6\", \"Topic6\", \"Topic6\", \"Topic6\", \"Topic6\", \"Topic6\", \"Topic6\", \"Topic6\", \"Topic6\", \"Topic6\", \"Topic6\", \"Topic6\", \"Topic6\", \"Topic6\", \"Topic6\", \"Topic6\", \"Topic6\", \"Topic6\", \"Topic6\", \"Topic6\", \"Topic6\", \"Topic6\", \"Topic6\", \"Topic6\", \"Topic6\", \"Topic6\", \"Topic6\", \"Topic7\", \"Topic7\", \"Topic7\", \"Topic7\", \"Topic7\", \"Topic7\", \"Topic7\", \"Topic7\", \"Topic7\", \"Topic7\", \"Topic7\", \"Topic7\", \"Topic7\", \"Topic7\", \"Topic7\", \"Topic7\", \"Topic7\", \"Topic7\", \"Topic7\", \"Topic7\", \"Topic7\", \"Topic7\", \"Topic7\", \"Topic7\", \"Topic7\", \"Topic7\", \"Topic7\", \"Topic7\", \"Topic7\", \"Topic7\", \"Topic7\", \"Topic7\", \"Topic7\", \"Topic7\", \"Topic7\", \"Topic7\", \"Topic7\", \"Topic7\", \"Topic7\", \"Topic7\", \"Topic7\", \"Topic7\", \"Topic7\", \"Topic7\", \"Topic7\", \"Topic7\", \"Topic7\", \"Topic8\", \"Topic8\", \"Topic8\", \"Topic8\", \"Topic8\", \"Topic8\", \"Topic8\", \"Topic8\", \"Topic8\", \"Topic8\", \"Topic8\", \"Topic8\", \"Topic8\", \"Topic8\", \"Topic8\", \"Topic8\", \"Topic8\", \"Topic8\", \"Topic8\", \"Topic8\", \"Topic8\", \"Topic8\", \"Topic8\", \"Topic8\", \"Topic8\", \"Topic8\", \"Topic8\", \"Topic8\", \"Topic8\", \"Topic8\", \"Topic8\", \"Topic8\", \"Topic8\", \"Topic8\", \"Topic8\", \"Topic8\", \"Topic8\", \"Topic8\", \"Topic8\", \"Topic8\", \"Topic8\", \"Topic8\", \"Topic8\", \"Topic8\", \"Topic8\", \"Topic8\", \"Topic9\", \"Topic9\", \"Topic9\", \"Topic9\", \"Topic9\", \"Topic9\", \"Topic9\", \"Topic9\", \"Topic9\", \"Topic9\", \"Topic9\", \"Topic9\", \"Topic9\", \"Topic9\", \"Topic9\", \"Topic9\", \"Topic9\", \"Topic9\", \"Topic9\", \"Topic9\", \"Topic9\", \"Topic9\", \"Topic9\", \"Topic9\", \"Topic9\", \"Topic9\", \"Topic9\", \"Topic9\", \"Topic9\", \"Topic9\", \"Topic9\", \"Topic9\", \"Topic10\", \"Topic10\", \"Topic10\", \"Topic10\", \"Topic10\", \"Topic10\", \"Topic10\", \"Topic10\", \"Topic10\", \"Topic10\", \"Topic10\", \"Topic10\", \"Topic10\", \"Topic10\", \"Topic10\", \"Topic10\", \"Topic10\", \"Topic10\", \"Topic10\", \"Topic10\", \"Topic10\", \"Topic10\", \"Topic10\", \"Topic10\", \"Topic10\", \"Topic10\", \"Topic10\", \"Topic10\", \"Topic10\", \"Topic10\", \"Topic10\", \"Topic10\", \"Topic10\", \"Topic10\", \"Topic10\", \"Topic10\", \"Topic10\"], \"Freq\": [3912.0, 11064.0, 3692.0, 7226.0, 2245.0, 6184.0, 11092.0, 6222.0, 6753.0, 1716.0, 6072.0, 3744.0, 2378.0, 5194.0, 4854.0, 1399.0, 2266.0, 1672.0, 2143.0, 7094.0, 2573.0, 5107.0, 1749.0, 2393.0, 5850.0, 3419.0, 1154.0, 2112.0, 1276.0, 3749.0, 6221.9599609375, 6071.97412109375, 3422.003662109375, 2453.7763671875, 1758.281982421875, 3403.52197265625, 1665.441162109375, 1621.8143310546875, 1586.22021484375, 1534.241943359375, 7221.6318359375, 1163.838134765625, 990.251953125, 989.5636596679688, 818.6944580078125, 787.4090576171875, 784.1002197265625, 779.53076171875, 756.1605224609375, 745.2852172851562, 744.5440063476562, 721.3190307617188, 705.6807250976562, 696.8377685546875, 669.0389404296875, 633.4707641601562, 510.03558349609375, 508.4541320800781, 506.7764892578125, 504.43316650390625, 10992.5947265625, 6691.64306640625, 3354.751220703125, 1973.2130126953125, 2968.103759765625, 1561.9072265625, 1725.3310546875, 1349.0718994140625, 2137.673095703125, 898.9412841796875, 4997.63671875, 5071.119140625, 3520.688720703125, 2261.90283203125, 3604.433837890625, 3616.00927734375, 5413.82958984375, 4425.740234375, 1947.4813232421875, 2429.892333984375, 8776.5400390625, 5478.404296875, 4753.1328125, 3313.47412109375, 3120.37353515625, 2868.0400390625, 2818.88525390625, 2732.149169921875, 4079.483154296875, 2478.198974609375, 2611.634033203125, 2438.96337890625, 2392.202392578125, 1637.6339111328125, 1411.5445556640625, 1133.80224609375, 868.0671997070312, 832.2694091796875, 811.776611328125, 802.2212524414062, 777.0592651367188, 763.2935180664062, 747.5795288085938, 715.2060546875, 593.4793701171875, 557.8683471679688, 555.1434326171875, 545.0013427734375, 543.0493774414062, 536.5075073242188, 527.1841430664062, 514.69287109375, 506.264892578125, 502.123779296875, 472.1044006347656, 458.1972961425781, 444.2911376953125, 432.849853515625, 423.0968017578125, 393.7048034667969, 393.2418212890625, 387.55902099609375, 2547.408935546875, 1078.6708984375, 757.7269897460938, 776.3072509765625, 2286.34912109375, 1172.80224609375, 1453.1044921875, 1160.29345703125, 1545.0308837890625, 992.4361572265625, 1195.1517333984375, 731.586669921875, 3806.097900390625, 1167.4134521484375, 1094.7406005859375, 1451.9615478515625, 2958.69287109375, 869.4976196289062, 1383.7366943359375, 1001.2100219726562, 1061.4696044921875, 827.19775390625, 1012.379638671875, 998.27880859375, 1045.236083984375, 1021.9429931640625, 905.1739501953125, 856.2562255859375, 837.2032470703125, 2265.12158203125, 2142.108642578125, 1767.33935546875, 1511.2271728515625, 1362.6798095703125, 1117.3204345703125, 1042.948974609375, 992.6312255859375, 923.9353637695312, 876.23828125, 803.6846923828125, 783.704833984375, 776.7197265625, 705.4657592773438, 686.843994140625, 681.4019775390625, 658.6773681640625, 635.5623779296875, 624.9869384765625, 587.0861206054688, 583.0259399414062, 501.27349853515625, 497.9401550292969, 492.4804382324219, 428.5296936035156, 354.66534423828125, 350.7443542480469, 329.6380310058594, 324.01458740234375, 315.4739685058594, 1182.772705078125, 2027.549560546875, 769.0357055664062, 1616.0458984375, 1227.746826171875, 757.292236328125, 1357.6370849609375, 705.4234619140625, 1594.0540771484375, 1077.9952392578125, 935.6159057617188, 1028.39013671875, 1707.01708984375, 1025.2200927734375, 1564.68017578125, 883.2158813476562, 1069.443359375, 753.0306396484375, 791.6415405273438, 789.192138671875, 769.24853515625, 1425.922607421875, 1164.257568359375, 1033.5745849609375, 799.9425048828125, 730.1795654296875, 681.4722290039062, 635.6139526367188, 626.1702270507812, 586.19287109375, 574.1597900390625, 522.4111328125, 494.7923583984375, 492.572265625, 470.8900146484375, 470.18389892578125, 465.388671875, 443.1326904296875, 434.14263916015625, 409.388916015625, 406.9387512207031, 403.61309814453125, 372.1697082519531, 346.51959228515625, 342.82672119140625, 334.5232238769531, 322.4465637207031, 318.93353271484375, 308.2894287109375, 290.10223388671875, 275.65582275390625, 2348.466552734375, 1212.3197021484375, 2454.938720703125, 1024.6519775390625, 660.5693969726562, 1997.82958984375, 796.3383178710938, 1059.1346435546875, 1098.5, 880.5364990234375, 1011.0087890625, 509.2056579589844, 750.036376953125, 528.2568359375, 540.0480346679688, 489.6303405761719, 1671.16748046875, 1023.7392578125, 658.609375, 586.9608154296875, 563.1363525390625, 541.6502685546875, 501.445068359375, 454.62640380859375, 406.99462890625, 397.3081359863281, 379.7800598144531, 353.67791748046875, 345.1065979003906, 336.16766357421875, 326.4942932128906, 301.6535339355469, 301.1994934082031, 301.0295104980469, 300.74102783203125, 288.0499267578125, 287.33056640625, 283.239990234375, 282.34039306640625, 268.9342041015625, 264.9521179199219, 255.33334350585938, 254.25469970703125, 253.6247100830078, 236.8522186279297, 230.19601440429688, 1095.26904296875, 818.7902221679688, 421.9046936035156, 1051.9686279296875, 800.6541748046875, 598.8351440429688, 524.8800048828125, 557.6719360351562, 439.00927734375, 443.91693115234375, 853.920166015625, 449.5489196777344, 612.5632934570312, 404.0146179199219, 412.0849914550781, 420.6584167480469, 2244.8232421875, 692.6163330078125, 535.7942504882812, 520.0340576171875, 447.129638671875, 428.97955322265625, 410.81256103515625, 364.84521484375, 357.6766357421875, 322.01263427734375, 320.8231201171875, 313.82635498046875, 279.1348876953125, 265.7949523925781, 264.07257080078125, 263.6578369140625, 262.7353820800781, 260.9444274902344, 257.5025634765625, 241.7441864013672, 227.17599487304688, 220.93182373046875, 201.4986572265625, 199.63516235351562, 189.92539978027344, 189.369384765625, 189.10977172851562, 185.98387145996094, 181.73208618164062, 179.54666137695312, 636.1240234375, 1272.2061767578125, 310.78070068359375, 285.12445068359375, 296.7457275390625, 1068.7230224609375, 307.3584289550781, 396.45220947265625, 313.4342041015625, 644.8317260742188, 297.9864807128906, 568.5845947265625, 394.22467041015625, 388.0589599609375, 321.3274230957031, 278.40972900390625, 1275.4862060546875, 572.5069580078125, 503.4646301269531, 497.1348876953125, 451.0421447753906, 442.78656005859375, 425.26910400390625, 407.18316650390625, 331.9713439941406, 317.00238037109375, 310.7716979980469, 303.5377502441406, 302.97515869140625, 292.3516540527344, 276.18414306640625, 253.36228942871094, 245.05052185058594, 208.661865234375, 197.5013427734375, 195.73715209960938, 189.85867309570312, 181.8046112060547, 181.55006408691406, 181.35772705078125, 178.25180053710938, 173.5054473876953, 170.03773498535156, 169.0615997314453, 167.98756408691406, 161.11239624023438, 1102.221923828125, 553.5247192382812, 555.6673583984375, 444.31280517578125, 556.03857421875, 370.3288879394531, 328.8485107421875, 351.16961669921875, 465.8567199707031, 501.54144287109375, 680.3604125976562, 461.10968017578125, 419.4039001464844, 686.5339965820312, 351.5467529296875, 323.8647766113281, 328.40008544921875, 1715.972412109375, 1397.9876708984375, 792.6865234375, 539.575439453125, 470.0816650390625, 435.9760437011719, 377.7304382324219, 253.1851348876953, 234.51841735839844, 208.26974487304688, 193.2794189453125, 175.51083374023438, 166.00013732910156, 154.0050506591797, 149.6545867919922, 146.34718322753906, 145.2207794189453, 138.4117431640625, 136.941162109375, 133.09783935546875, 130.59280395507812, 120.19001770019531, 113.07699584960938, 111.06949615478516, 104.7245864868164, 103.8497085571289, 100.25529479980469, 100.06086730957031, 98.2418441772461, 97.0491943359375, 994.4115600585938, 347.49346923828125, 756.5471801757812, 297.41656494140625, 353.7240905761719, 207.91734313964844, 324.61322021484375, 836.9437255859375, 274.9433898925781, 366.9564514160156, 197.44589233398438, 265.59063720703125, 191.7484588623047, 166.38137817382812, 197.29554748535156, 181.69102478027344, 3911.764404296875, 509.28411865234375, 449.13897705078125, 358.5660400390625, 357.625244140625, 308.8356018066406, 282.9331970214844, 269.96173095703125, 258.7030029296875, 226.03245544433594, 211.92054748535156, 208.92758178710938, 206.0890350341797, 205.54376220703125, 191.0430908203125, 175.0329132080078, 165.0785369873047, 155.48092651367188, 154.60792541503906, 149.6195526123047, 145.9684600830078, 140.88525390625, 111.42366027832031, 104.7555160522461, 101.52155303955078, 99.7467269897461, 99.41256713867188, 98.94283294677734, 96.71610260009766, 92.13858032226562, 287.18841552734375, 237.56924438476562, 320.3261413574219, 266.704833984375, 236.12510681152344, 198.907470703125, 189.1645050048828, 179.75965881347656, 144.14781188964844, 141.93798828125, 141.3522186279297, 138.9246063232422, 138.0986785888672, 111.37785339355469, 111.2265396118164, 103.84573364257812, 100.64894104003906, 97.81793212890625, 97.818603515625, 95.81029510498047, 92.60169982910156, 80.30948638916016, 77.81241607666016, 73.60324096679688, 72.99768829345703, 66.4388427734375, 64.80718231201172, 63.56415939331055, 61.893516540527344, 61.887001037597656, 55.042694091796875, 54.923526763916016, 641.4061889648438, 174.33770751953125, 115.05327606201172, 133.6882781982422, 74.14417266845703, 72.1084976196289, 66.55265045166016], \"Term\": [\"ax\", \"write\", \"year\", \"article\", \"key\", \"people\", \"line\", \"be\", \"know\", \"team\", \"go\", \"system\", \"drive\", \"good\", \"use\", \"game\", \"program\", \"car\", \"file\", \"say\", \"believe\", \"time\", \"government\", \"evidence\", \"get\", \"need\", \"play\", \"mail\", \"gun\", \"work\", \"be\", \"go\", \"s\", \"really\", \"bad\", \"organization\", \"hear\", \"little\", \"put\", \"lot\", \"article\", \"maybe\", \"remember\", \"week\", \"patient\", \"ill\", \"belief\", \"news\", \"atheist\", \"experience\", \"face\", \"pretty\", \"couple\", \"friend\", \"guess\", \"wonder\", \"accord\", \"job\", \"sorry\", \"chance\", \"write\", \"know\", \"would\", \"back\", \"much\", \"probably\", \"let\", \"enough\", \"still\", \"else\", \"time\", \"good\", \"well\", \"have\", \"want\", \"take\", \"get\", \"see\", \"day\", \"tell\", \"line\", \"make\", \"think\", \"come\", \"thing\", \"look\", \"try\", \"way\", \"say\", \"give\", \"also\", \"year\", \"evidence\", \"claim\", \"sense\", \"faith\", \"physical\", \"god\", \"explain\", \"religion\", \"die\", \"prove\", \"argument\", \"truth\", \"human\", \"israeli\", \"valid\", \"christian\", \"statement\", \"conclusion\", \"existence\", \"church\", \"drug\", \"religious\", \"reality\", \"indeed\", \"sin\", \"brain\", \"slave\", \"therefore\", \"authority\", \"nature\", \"believe\", \"life\", \"speak\", \"science\", \"reason\", \"true\", \"man\", \"person\", \"fact\", \"word\", \"exist\", \"accept\", \"people\", \"issue\", \"law\", \"mean\", \"say\", \"world\", \"many\", \"however\", \"state\", \"agree\", \"case\", \"question\", \"think\", \"make\", \"even\", \"follow\", \"part\", \"program\", \"file\", \"information\", \"window\", \"available\", \"image\", \"email\", \"copy\", \"entry\", \"advance\", \"application\", \"screen\", \"user\", \"code\", \"internet\", \"display\", \"graphic\", \"function\", \"section\", \"video\", \"package\", \"format\", \"self\", \"request\", \"mouse\", \"update\", \"tool\", \"client\", \"manager\", \"telnet\", \"address\", \"mail\", \"color\", \"include\", \"source\", \"info\", \"send\", \"version\", \"thank\", \"message\", \"list\", \"set\", \"use\", \"number\", \"line\", \"follow\", \"also\", \"software\", \"help\", \"run\", \"find\", \"card\", \"driver\", \"chip\", \"com\", \"speed\", \"memory\", \"disk\", \"fast\", \"device\", \"instal\", \"product\", \"pc\", \"slow\", \"character\", \"monitor\", \"pin\", \"bus\", \"hardware\", \"normal\", \"performance\", \"connect\", \"internal\", \"port\", \"switch\", \"recommend\", \"signal\", \"digital\", \"controller\", \"printer\", \"communication\", \"drive\", \"computer\", \"system\", \"bit\", \"machine\", \"use\", \"will\", \"problem\", \"need\", \"run\", \"work\", \"datum\", \"line\", \"high\", \"thank\", \"host\", \"car\", \"sell\", \"sale\", \"tape\", \"bike\", \"wire\", \"server\", \"item\", \"encrypt\", \"unit\", \"ride\", \"engine\", \"seller\", \"mount\", \"purchase\", \"dealer\", \"motorcycle\", \"market\", \"air\", \"radio\", \"trust\", \"edge\", \"commercial\", \"announcement\", \"clean\", \"warranty\", \"mile\", \"catch\", \"cd\", \"screw\", \"price\", \"cost\", \"ground\", \"power\", \"buy\", \"low\", \"rate\", \"pay\", \"cheap\", \"light\", \"new\", \"model\", \"high\", \"cover\", \"offer\", \"old\", \"key\", \"choose\", \"security\", \"private\", \"block\", \"ripem\", \"safety\", \"secure\", \"review\", \"secret\", \"agency\", \"tap\", \"president\", \"master\", \"typical\", \"keyboard\", \"fund\", \"tax\", \"insurance\", \"federal\", \"cop\", \"ensure\", \"proposal\", \"illegal\", \"tube\", \"amendment\", \"patent\", \"permit\", \"winner\", \"agent\", \"encryption\", \"public\", \"safe\", \"vote\", \"legal\", \"government\", \"clearly\", \"protect\", \"possibility\", \"state\", \"citizen\", \"right\", \"provide\", \"system\", \"law\", \"use\", \"gun\", \"soldier\", \"crime\", \"village\", \"military\", \"armenian\", \"weapon\", \"firearm\", \"terrorist\", \"turkish\", \"occupy\", \"withdraw\", \"terrorism\", \"turk\", \"arm\", \"united_state\", \"civilian\", \"rocket\", \"border\", \"percent\", \"lebanese_resistance\", \"patrol\", \"girl\", \"tank\", \"justify\", \"guarantee\", \"snip\", \"inhabitant\", \"victim\", \"russian\", \"kill\", \"war\", \"fire\", \"murder\", \"attack\", \"shoot\", \"land\", \"city\", \"country\", \"death\", \"government\", \"child\", \"report\", \"people\", \"force\", \"state\", \"year\", \"team\", \"game\", \"player\", \"season\", \"fan\", \"score\", \"hockey\", \"pen\", \"playoff\", \"gay\", \"ice\", \"coach\", \"award\", \"talent\", \"finish\", \"devil\", \"stat\", \"complex\", \"familiar\", \"pitch\", \"offense\", \"penguin\", \"advertising\", \"pitcher\", \"ranger\", \"super\", \"snow\", \"last_night\", \"pit\", \"slip\", \"play\", \"wing\", \"win\", \"trade\", \"goal\", \"star\", \"division\", \"year\", \"lose\", \"run\", \"hit\", \"last\", \"pick\", \"final\", \"next\", \"first\", \"ax\", \"notice\", \"_\", \"external\", \"clipper_chip\", \"law_enforcement\", \"install\", \"rsa\", \"sphere\", \"crypto\", \"expansion\", \"privacy\", \"predict\", \"export\", \"icon\", \"remote\", \"specification\", \"trivial\", \"resistance\", \"ad\", \"examination\", \"stack\", \"politic\", \"portion\", \"cryptographic\", \"georgia_institute\", \"white_house\", \"import\", \"vice_president\", \"subsequent\", \"hole\", \"technology\", \"launch\", \"orbit\", \"mission\", \"satellite\", \"plane\", \"flight\", \"attitude\", \"sector\", \"pad\", \"fuel\", \"saturn\", \"spacecraft\", \"shuttle\", \"qualify\", \"lunar\", \"moon\", \"velocity\", \"solar\", \"frequency\", \"environmental\", \"ozone\", \"crew\", \"planetary\", \"frequently_aske\", \"landing\", \"payload\", \"space_shuttle\", \"astronomy\", \"handbook\", \"aluminum\", \"space\", \"earth\", \"project\", \"research\", \"fly\", \"development\", \"technology\"], \"Total\": [3912.0, 11064.0, 3692.0, 7226.0, 2245.0, 6184.0, 11092.0, 6222.0, 6753.0, 1716.0, 6072.0, 3744.0, 2378.0, 5194.0, 4854.0, 1399.0, 2266.0, 1672.0, 2143.0, 7094.0, 2573.0, 5107.0, 1749.0, 2393.0, 5850.0, 3419.0, 1154.0, 2112.0, 1276.0, 3749.0, 6222.96435546875, 6072.978515625, 3423.0078125, 2454.780517578125, 1759.2862548828125, 3405.5341796875, 1666.4453125, 1622.818603515625, 1587.224365234375, 1535.24609375, 7226.59765625, 1164.84228515625, 991.2559814453125, 990.5677490234375, 819.6989135742188, 788.4130249023438, 785.1044311523438, 780.5348510742188, 757.1647338867188, 746.2892456054688, 745.5481567382812, 722.3231201171875, 706.684814453125, 697.841796875, 670.0430908203125, 634.474853515625, 511.039794921875, 509.45819091796875, 507.7806396484375, 505.4373474121094, 11064.7685546875, 6753.2412109375, 3375.140869140625, 1977.5616455078125, 2990.886474609375, 1566.8238525390625, 1732.783447265625, 1356.2630615234375, 2161.483154296875, 901.0687255859375, 5107.44970703125, 5194.76220703125, 3596.432861328125, 2312.184326171875, 3729.472412109375, 3795.33203125, 5850.3076171875, 4760.71728515625, 2020.2877197265625, 2615.47607421875, 11092.0244140625, 6547.03515625, 5799.2685546875, 3819.1298828125, 3668.5498046875, 3345.52783203125, 3402.9345703125, 3466.3583984375, 7094.86962890625, 3266.419921875, 4760.13134765625, 3692.60986328125, 2393.216064453125, 1638.647705078125, 1412.558349609375, 1134.81591796875, 869.081298828125, 833.2830810546875, 812.790283203125, 803.2349243164062, 778.072998046875, 764.3073120117188, 748.5932006835938, 716.2197265625, 594.4931030273438, 558.882080078125, 556.1574096679688, 546.0150146484375, 544.0631713867188, 537.5211791992188, 528.1978149414062, 515.70654296875, 507.27862548828125, 503.13751220703125, 473.1182556152344, 459.2110900878906, 445.3048400878906, 433.86383056640625, 424.11199951171875, 394.71856689453125, 394.2556457519531, 388.57275390625, 2573.797119140625, 1109.3157958984375, 779.5127563476562, 811.2269287109375, 2629.543212890625, 1278.35546875, 1620.4969482421875, 1271.8079833984375, 1781.3438720703125, 1098.085205078125, 1401.5794677734375, 783.6881103515625, 6184.8740234375, 1485.3563232421875, 1416.9700927734375, 2365.3671875, 7094.86962890625, 1149.4300537109375, 3173.790283203125, 1698.0277099609375, 2030.952392578125, 1054.078857421875, 2288.56884765625, 2673.279052734375, 5799.2685546875, 6547.03515625, 3242.610107421875, 1874.1064453125, 1907.0184326171875, 2266.114013671875, 2143.100830078125, 1768.3319091796875, 1512.219482421875, 1363.68408203125, 1118.3128662109375, 1043.9412841796875, 993.6235961914062, 924.9277954101562, 877.2306518554688, 804.677001953125, 784.6973266601562, 777.7120971679688, 706.4581909179688, 687.838623046875, 682.3943481445312, 659.669677734375, 636.5551147460938, 625.9793701171875, 588.0784912109375, 584.0182495117188, 502.26580810546875, 498.93292236328125, 493.4729309082031, 429.52203369140625, 355.65771484375, 351.73681640625, 330.63043212890625, 325.0071105957031, 316.46685791015625, 1194.021484375, 2112.070556640625, 843.3585205078125, 2017.086181640625, 1501.411376953125, 857.9867553710938, 1812.302978515625, 788.2513427734375, 2741.076904296875, 1565.119873046875, 1273.454833984375, 1691.3038330078125, 4854.1943359375, 2412.109375, 11092.0244140625, 1874.1064453125, 4760.13134765625, 1216.920166015625, 2266.275634765625, 2383.944580078125, 3257.968994140625, 1426.931396484375, 1165.2662353515625, 1034.583251953125, 800.951416015625, 731.1881713867188, 682.4808349609375, 636.6226196289062, 627.1788940429688, 587.2015991210938, 575.16845703125, 523.419921875, 495.80096435546875, 493.5810852050781, 471.89886474609375, 471.19256591796875, 466.3974304199219, 444.1414489746094, 435.1513366699219, 410.3976745605469, 407.947509765625, 404.6217346191406, 373.178466796875, 347.52825927734375, 343.83544921875, 335.5321044921875, 323.4554138183594, 319.9425048828125, 309.2980041503906, 291.11083984375, 276.6646423339844, 2378.0771484375, 1344.6019287109375, 3744.29150390625, 1573.43310546875, 871.34521484375, 4854.1943359375, 1379.3907470703125, 3156.6787109375, 3419.412353515625, 2383.944580078125, 3749.63037109375, 1054.0006103515625, 11092.0244140625, 1696.974365234375, 2741.076904296875, 3153.46044921875, 1672.175537109375, 1024.747314453125, 659.6173706054688, 587.9689331054688, 564.144287109375, 542.6583251953125, 502.45318603515625, 455.6346435546875, 408.003173828125, 398.3163146972656, 380.7881164550781, 354.68597412109375, 346.1155090332031, 337.1758728027344, 327.50238037109375, 302.6615295410156, 302.20751953125, 302.03759765625, 301.7491760253906, 289.0580749511719, 288.3388671875, 284.2481994628906, 283.3485412597656, 269.9426574707031, 265.9769287109375, 256.3415222167969, 255.26278686523438, 254.63290405273438, 237.86029052734375, 231.20419311523438, 1103.072265625, 959.9794311523438, 455.0582275390625, 1365.16455078125, 1249.66943359375, 863.161376953125, 780.1893310546875, 1020.0811767578125, 650.1829223632812, 686.54931640625, 2719.53564453125, 729.8751831054688, 1696.974365234375, 615.71484375, 721.6810302734375, 1613.137939453125, 2245.830078125, 693.6239013671875, 536.8012084960938, 521.041015625, 448.1368103027344, 429.9877014160156, 411.819580078125, 365.8521423339844, 358.683837890625, 323.01959228515625, 321.8301086425781, 314.83331298828125, 280.14190673828125, 266.8028564453125, 265.079833984375, 264.6650695800781, 263.7424011230469, 261.95135498046875, 258.509521484375, 242.7511444091797, 228.18301391601562, 221.9391326904297, 202.505615234375, 200.6422882080078, 190.93264770507812, 190.37640380859375, 190.11672973632812, 186.99102783203125, 182.7397918701172, 180.55374145507812, 641.647705078125, 1319.0076904296875, 317.5429382324219, 293.6885070800781, 334.83160400390625, 1749.974609375, 380.019775390625, 560.872802734375, 395.57318115234375, 2030.952392578125, 433.463623046875, 2871.925048828125, 1579.892578125, 3744.29150390625, 1416.9700927734375, 4854.1943359375, 1276.4891357421875, 573.5098876953125, 504.4676208496094, 498.1378173828125, 452.04522705078125, 443.7894592285156, 426.27203369140625, 408.18609619140625, 332.97442626953125, 318.0052795410156, 311.7746887207031, 304.5408935546875, 303.9787902832031, 293.35455322265625, 277.1872253417969, 254.3654022216797, 246.0535888671875, 209.66514587402344, 198.50442504882812, 196.74053955078125, 190.86167907714844, 182.80783081054688, 182.55322265625, 182.36080932617188, 179.2553253173828, 174.50875854492188, 171.04159545898438, 170.0645294189453, 168.99063110351562, 162.1155242919922, 1181.7791748046875, 595.0598754882812, 603.4244384765625, 488.6156921386719, 752.36181640625, 454.2296447753906, 416.5531921386719, 461.69036865234375, 743.445068359375, 1014.1862182617188, 1749.974609375, 1253.726318359375, 1141.28662109375, 6184.8740234375, 808.5740356445312, 2030.952392578125, 3692.60986328125, 1716.9906005859375, 1399.005859375, 793.70458984375, 540.5935668945312, 471.0999450683594, 436.9941101074219, 378.7485046386719, 254.20364379882812, 235.53646850585938, 209.28823852539062, 194.2975616455078, 176.52891540527344, 167.01966857910156, 155.0232391357422, 150.67303466796875, 147.3654022216797, 146.23895263671875, 139.4307861328125, 137.95999145507812, 134.115966796875, 131.61117553710938, 121.20806884765625, 114.0960693359375, 112.08755493164062, 105.74269104003906, 104.8691635131836, 101.27369689941406, 101.07919311523438, 99.260009765625, 98.06891632080078, 1154.51220703125, 390.68975830078125, 1076.5633544921875, 367.55963134765625, 464.1051025390625, 247.89915466308594, 506.39306640625, 3692.60986328125, 977.6790161132812, 2383.944580078125, 504.4827575683594, 1783.8466796875, 530.1060791015625, 355.4952392578125, 1240.9617919921875, 2831.59912109375, 3912.74560546875, 510.2657775878906, 450.1204528808594, 359.5480651855469, 358.6064758300781, 309.8169860839844, 283.914794921875, 270.9432067871094, 259.6860046386719, 227.01368713378906, 212.90243530273438, 209.9088134765625, 207.07083129882812, 206.525146484375, 192.02444458007812, 176.01466369628906, 166.0602569580078, 156.46299743652344, 155.5894775390625, 150.60096740722656, 146.95138549804688, 141.86737060546875, 112.40584564208984, 105.73734283447266, 102.50350189208984, 100.72811126708984, 100.39400482177734, 99.92466735839844, 97.69778442382812, 93.12142944335938, 316.4720764160156, 1018.6514282226562, 321.3587951660156, 267.7374267578125, 237.15780639648438, 199.94009399414062, 190.19729614257812, 180.79232788085938, 145.18077087402344, 142.9713897705078, 142.3851776123047, 139.9573211669922, 139.1314239501953, 112.4104232788086, 112.2591323852539, 104.88177490234375, 101.6815185546875, 98.85057830810547, 98.85132598876953, 96.84300994873047, 93.63468933105469, 81.3424301147461, 78.84503173828125, 74.63636016845703, 74.03036499023438, 67.47252655029297, 65.83987426757812, 64.59673309326172, 62.926143646240234, 62.919639587402344, 56.075592041015625, 55.95643615722656, 890.5963745117188, 529.41357421875, 356.94720458984375, 622.3832397460938, 173.14968872070312, 235.83914184570312, 1018.6514282226562], \"loglift\": [30.0, 29.0, 28.0, 27.0, 26.0, 25.0, 24.0, 23.0, 22.0, 21.0, 20.0, 19.0, 18.0, 17.0, 16.0, 15.0, 14.0, 13.0, 12.0, 11.0, 10.0, 9.0, 8.0, 7.0, 6.0, 5.0, 4.0, 3.0, 2.0, 1.0, 0.9957000017166138, 0.9957000017166138, 0.9955999851226807, 0.9955000281333923, 0.9952999949455261, 0.9952999949455261, 0.9952999949455261, 0.9952999949455261, 0.9952999949455261, 0.995199978351593, 0.995199978351593, 0.9950000047683716, 0.9948999881744385, 0.9948999881744385, 0.994700014591217, 0.9945999979972839, 0.9945999979972839, 0.9945999979972839, 0.9945999979972839, 0.9944999814033508, 0.9944999814033508, 0.9944999814033508, 0.9944999814033508, 0.9944999814033508, 0.9944000244140625, 0.9943000078201294, 0.9939000010490417, 0.9939000010490417, 0.9939000010490417, 0.9939000010490417, 0.989300012588501, 0.9866999983787537, 0.989799976348877, 0.9937000274658203, 0.9882000088691711, 0.9926999807357788, 0.991599977016449, 0.9905999898910522, 0.9847999811172485, 0.9934999942779541, 0.9742000102996826, 0.9718000292778015, 0.9746000170707703, 0.9739000201225281, 0.9617999792098999, 0.9474999904632568, 0.91839998960495, 0.9229000210762024, 0.9592000246047974, 0.9222999811172485, 0.7616999745368958, 0.8177000284194946, 0.796999990940094, 0.8539000153541565, 0.8339999914169312, 0.8418999910354614, 0.8076000213623047, 0.7578999996185303, 0.4424999952316284, 0.7196999788284302, 0.39559999108314514, 0.5810999870300293, 1.6399999856948853, 1.639799952507019, 1.6397000551223755, 1.6396000385284424, 1.639299988746643, 1.63919997215271, 1.63919997215271, 1.63919997215271, 1.63919997215271, 1.6390999555587769, 1.6390999555587769, 1.6390000581741333, 1.638800024986267, 1.638700008392334, 1.6385999917984009, 1.6385999917984009, 1.6385999917984009, 1.6385999917984009, 1.6384999752044678, 1.6384999752044678, 1.6384999752044678, 1.6383999586105347, 1.6382999420166016, 1.6382999420166016, 1.638200044631958, 1.638100028038025, 1.638100028038025, 1.6378999948501587, 1.6378999948501587, 1.6378999948501587, 1.6302000284194946, 1.6124999523162842, 1.6121000051498413, 1.596500039100647, 1.500599980354309, 1.5542999505996704, 1.5313999652862549, 1.548699975013733, 1.4981000423431396, 1.5392999649047852, 1.4810999631881714, 1.5716999769210815, 1.1549999713897705, 1.3996000289916992, 1.3825000524520874, 1.152400016784668, 0.7657999992370605, 1.3614000082015991, 0.8102999925613403, 1.1122000217437744, 0.991599977016449, 1.3981000185012817, 0.8248000144958496, 0.6553999781608582, -0.0729999989271164, -0.2168000042438507, 0.3644999861717224, 0.8571000099182129, 0.8172000050544739, 2.0840001106262207, 2.0840001106262207, 2.083899974822998, 2.0838000774383545, 2.083699941635132, 2.0836000442504883, 2.0834999084472656, 2.0834999084472656, 2.083400011062622, 2.083400011062622, 2.0833001136779785, 2.083199977874756, 2.083199977874756, 2.0831000804901123, 2.0829999446868896, 2.0829999446868896, 2.0829999446868896, 2.082900047302246, 2.082900047302246, 2.0827999114990234, 2.0827999114990234, 2.0824999809265137, 2.0824999809265137, 2.0824999809265137, 2.082200050354004, 2.081700086593628, 2.081700086593628, 2.0815000534057617, 2.081399917602539, 2.0813000202178955, 2.075000047683716, 2.043600082397461, 1.9922000169754028, 1.8628000020980835, 1.8832999467849731, 1.9595999717712402, 1.7956000566482544, 1.9735000133514404, 1.5424000024795532, 1.7115999460220337, 1.7762000560760498, 1.5870000123977661, 1.0393999814987183, 1.2288999557495117, 0.125900000333786, 1.332200050354004, 0.5913000106811523, 1.6045000553131104, 1.0326999425888062, 0.9789999723434448, 0.640999972820282, 2.5132999420166016, 2.513200044631958, 2.5130999088287354, 2.5127999782562256, 2.512700080871582, 2.5125999450683594, 2.512500047683716, 2.512399911880493, 2.5123000144958496, 2.5123000144958496, 2.5120999813079834, 2.51200008392334, 2.51200008392334, 2.511899948120117, 2.511899948120117, 2.511899948120117, 2.5118000507354736, 2.511699914932251, 2.5116000175476074, 2.5116000175476074, 2.5114998817443848, 2.5113000869750977, 2.5111000537872314, 2.5111000537872314, 2.510999917984009, 2.5109000205993652, 2.5109000205993652, 2.5107998847961426, 2.5106000900268555, 2.5104000568389893, 2.501499891281128, 2.4105000495910645, 2.091900110244751, 2.085099935531616, 2.2370998859405518, 1.6262999773025513, 1.9646999835968018, 1.4220000505447388, 1.378499984741211, 1.5181000232696533, 1.2032999992370605, 1.7864999771118164, -0.17980000376701355, 1.347000002861023, 0.8895999789237976, 0.6514000296592712, 2.750999927520752, 2.7506000995635986, 2.7500998973846436, 2.7499001026153564, 2.749799966812134, 2.749799966812134, 2.7495999336242676, 2.7493999004364014, 2.7490999698638916, 2.7490999698638916, 2.749000072479248, 2.748800039291382, 2.748699903488159, 2.7486000061035156, 2.748500108718872, 2.748300075531006, 2.748300075531006, 2.748300075531006, 2.748300075531006, 2.7481000423431396, 2.7481000423431396, 2.7481000423431396, 2.747999906539917, 2.7479000091552734, 2.74780011177063, 2.7476999759674072, 2.7476999759674072, 2.7476000785827637, 2.7474000453948975, 2.7472000122070312, 2.744499921798706, 2.5924999713897705, 2.6760001182556152, 2.490999937057495, 2.3064000606536865, 2.385999917984009, 2.3552000522613525, 2.147700071334839, 2.3589000701904297, 2.3155999183654785, 1.5931999683380127, 2.2669999599456787, 1.732699990272522, 2.3303000926971436, 2.1912999153137207, 1.4075000286102295, 2.925800085067749, 2.924799919128418, 2.9244000911712646, 2.9244000911712646, 2.9240000247955322, 2.9240000247955322, 2.923799991607666, 2.9235000610351562, 2.9235000610351562, 2.9231998920440674, 2.9231998920440674, 2.923099994659424, 2.9226999282836914, 2.922499895095825, 2.922499895095825, 2.922499895095825, 2.922499895095825, 2.9223999977111816, 2.9223999977111816, 2.922100067138672, 2.9219000339508057, 2.9217000007629395, 2.921299934387207, 2.921299934387207, 2.9210000038146973, 2.9210000038146973, 2.9210000038146973, 2.9209001064300537, 2.920799970626831, 2.9207000732421875, 2.9177000522613525, 2.890199899673462, 2.9047999382019043, 2.896699905395508, 2.805500030517578, 2.433199882507324, 2.714099884033203, 2.579400062561035, 2.6935999393463135, 1.7790000438690186, 2.551500082015991, 1.3066999912261963, 1.538100004196167, 0.659500002861023, 1.4424999952316284, 0.06780000030994415, 2.946899890899658, 2.9458999633789062, 2.94569993019104, 2.94569993019104, 2.945499897003174, 2.9453999996185303, 2.9453001022338867, 2.945199966430664, 2.944700002670288, 2.944499969482422, 2.944499969482422, 2.9444000720977783, 2.9444000720977783, 2.9442999362945557, 2.9440999031066895, 2.943700075149536, 2.9435999393463135, 2.9428999423980713, 2.9426000118255615, 2.9426000118255615, 2.9423999786376953, 2.942199945449829, 2.942199945449829, 2.942199945449829, 2.9421000480651855, 2.9419000148773193, 2.941800117492676, 2.941800117492676, 2.941699981689453, 2.941499948501587, 2.878000020980835, 2.8752999305725098, 2.8652000427246094, 2.85260009765625, 2.6452999114990234, 2.743499994277954, 2.7112998962402344, 2.674099922180176, 2.480299949645996, 2.243499994277954, 2.0028998851776123, 1.9473999738693237, 1.9465999603271484, 0.7494999766349792, 2.114799976348877, 1.1117000579833984, 0.5278000235557556, 3.501800060272217, 3.501699924468994, 3.5011000633239746, 3.500499963760376, 3.5002999305725098, 3.5000998973846436, 3.4997000694274902, 3.4983999729156494, 3.4981000423431396, 3.497499942779541, 3.4972000122070312, 3.4965999126434326, 3.496299982070923, 3.495800018310547, 3.4955999851226807, 3.495500087738037, 3.4953999519348145, 3.4951000213623047, 3.494999885559082, 3.494800090789795, 3.4946999549865723, 3.49399995803833, 3.493499994277954, 3.493299961090088, 3.4927000999450684, 3.4927000999450684, 3.492300033569336, 3.492300033569336, 3.4921000003814697, 3.492000102996826, 3.353100061416626, 3.3852999210357666, 3.1496999263763428, 3.2906999588012695, 3.230799913406372, 3.3264999389648438, 3.0576999187469482, 2.0181000232696533, 2.233799934387207, 1.6311999559402466, 2.5643999576568604, 1.5979000329971313, 2.4855000972747803, 2.7432000637054443, 1.6634999513626099, 0.7560999989509583, 3.9835000038146973, 3.981800079345703, 3.981600046157837, 3.9809999465942383, 3.9809999465942383, 3.980600118637085, 3.980299949645996, 3.98009991645813, 3.9800000190734863, 3.9793999195098877, 3.979099988937378, 3.979099988937378, 3.9790000915527344, 3.9790000915527344, 3.978600025177002, 3.9781999588012695, 3.977799892425537, 3.977400064468384, 3.977400064468384, 3.9772000312805176, 3.9769999980926514, 3.976799964904785, 3.9749999046325684, 3.974400043487549, 3.974100112915039, 3.9739999771118164, 3.973900079727173, 3.973900079727173, 3.973599910736084, 3.973099946975708, 3.8866000175476074, 2.5280001163482666, 4.356400012969971, 4.3557000160217285, 4.355199813842773, 4.354400157928467, 4.354100227355957, 4.353899955749512, 4.352399826049805, 4.35230016708374, 4.35230016708374, 4.352200031280518, 4.352099895477295, 4.350399971008301, 4.350299835205078, 4.349699974060059, 4.349400043487549, 4.349100112915039, 4.349100112915039, 4.348899841308594, 4.348499774932861, 4.346799850463867, 4.346399784088135, 4.345600128173828, 4.3454999923706055, 4.344099998474121, 4.343800067901611, 4.343500137329102, 4.3429999351501465, 4.3429999351501465, 4.341000080108643, 4.341000080108643, 4.031400203704834, 3.248800039291382, 3.227400064468384, 2.821500062942505, 3.511399984359741, 3.1745998859405518, 1.6312999725341797], \"logprob\": [30.0, 29.0, 28.0, 27.0, 26.0, 25.0, 24.0, 23.0, 22.0, 21.0, 20.0, 19.0, 18.0, 17.0, 16.0, 15.0, 14.0, 13.0, 12.0, 11.0, 10.0, 9.0, 8.0, 7.0, 6.0, 5.0, 4.0, 3.0, 2.0, 1.0, -4.198299884796143, -4.222700119018555, -4.79610013961792, -5.128699779510498, -5.461999893188477, -4.801599979400635, -5.516300201416016, -5.542799949645996, -5.565000057220459, -5.598299980163574, -4.049300193786621, -5.874599933624268, -6.036200046539307, -6.036900043487549, -6.226399898529053, -6.265399932861328, -6.269599914550781, -6.275400161743164, -6.3059000968933105, -6.320400238037109, -6.321300029754639, -6.353000164031982, -6.375, -6.387599945068359, -6.428299903869629, -6.482900142669678, -6.6996002197265625, -6.702700138092041, -6.705999851226807, -6.710700035095215, -3.6291000843048096, -4.125500202178955, -4.815999984741211, -5.346700191497803, -4.938399791717529, -5.58050012588501, -5.480899810791016, -5.726900100708008, -5.266600131988525, -6.132900238037109, -4.417399883270264, -4.4028000831604, -4.7677001953125, -5.21019983291626, -4.744200229644775, -4.741000175476074, -4.337399959564209, -4.538899898529053, -5.359799861907959, -5.138500213623047, -3.854300022125244, -4.3256001472473145, -4.467599868774414, -4.828400135040283, -4.888400077819824, -4.972700119018555, -4.989999771118164, -5.021299839019775, -4.6203999519348145, -5.118800163269043, -5.066400051116943, -5.134799957275391, -4.5096001625061035, -4.888500213623047, -5.037099838256836, -5.256199836730957, -5.5233001708984375, -5.565400123596191, -5.5903000831604, -5.602200031280518, -5.633999824523926, -5.651899814605713, -5.672699928283691, -5.7170000076293945, -5.903500080108643, -5.965400218963623, -5.970300197601318, -5.988800048828125, -5.992300033569336, -6.004499912261963, -6.021999835968018, -6.046000003814697, -6.0625, -6.070700168609619, -6.132299900054932, -6.162199974060059, -6.1930999755859375, -6.219200134277344, -6.2418999671936035, -6.313899993896484, -6.315100193023682, -6.329699993133545, -4.446700096130371, -5.306099891662598, -5.659200191497803, -5.635000228881836, -4.554800033569336, -5.222400188446045, -5.0081000328063965, -5.233099937438965, -4.946700096130371, -5.389400005340576, -5.203499794006348, -5.694300174713135, -4.045199871063232, -5.2270002365112305, -5.291299819946289, -5.008900165557861, -4.296999931335449, -5.521599769592285, -5.057000160217285, -5.3805999755859375, -5.3221001625061035, -5.571499824523926, -5.369500160217285, -5.383500099182129, -5.337500095367432, -5.360099792480469, -5.481400012969971, -5.5370001792907715, -5.559500217437744, -4.120100021362305, -4.176000118255615, -4.368299961090088, -4.524799823760986, -4.628300189971924, -4.8267998695373535, -4.895699977874756, -4.945199966430664, -5.016900062561035, -5.069900035858154, -5.156300067901611, -5.18149995803833, -5.190400123596191, -5.2866997718811035, -5.313399791717529, -5.321400165557861, -5.355299949645996, -5.390999794006348, -5.407800197601318, -5.470399856567383, -5.47730016708374, -5.628399848937988, -5.635000228881836, -5.646100044250488, -5.785200119018555, -5.974400043487549, -5.985499858856201, -6.047500133514404, -6.064700126647949, -6.0914998054504395, -4.769899845123291, -4.230899810791016, -5.200399875640869, -4.457799911499023, -4.732600212097168, -5.215799808502197, -4.631999969482422, -5.2866997718811035, -4.471499919891357, -4.86269998550415, -5.004300117492676, -4.909800052642822, -4.4029998779296875, -4.912899971008301, -4.490099906921387, -5.061999797821045, -4.87060022354126, -5.221399784088135, -5.17140007019043, -5.174499988555908, -5.200099945068359, -4.15339994430542, -4.356100082397461, -4.475200176239014, -4.731400012969971, -4.822700023651123, -4.89169979095459, -4.961400032043457, -4.97629976272583, -5.042300224304199, -5.0630998611450195, -5.15749979019165, -5.2118000984191895, -5.216300010681152, -5.261300086975098, -5.262800216674805, -5.273099899291992, -5.3221001625061035, -5.342599868774414, -5.401299953460693, -5.407299995422363, -5.415500164031982, -5.496600151062012, -5.567999839782715, -5.578700065612793, -5.603300094604492, -5.639999866485596, -5.651000022888184, -5.684899806976318, -5.745699882507324, -5.796800136566162, -3.6545000076293945, -4.315700054168701, -3.610100030899048, -4.48390007019043, -4.922900199890137, -3.816200017929077, -4.735899925231934, -4.450799942016602, -4.414299964904785, -4.63539981842041, -4.497300148010254, -5.18310022354126, -4.795899868011475, -5.146399974822998, -5.124300003051758, -5.222300052642822, -3.7571001052856445, -4.247200012207031, -4.688300132751465, -4.803400039672852, -4.844900131225586, -4.883800029754639, -4.960899829864502, -5.058899879455566, -5.169600009918213, -5.193699836730957, -5.238800048828125, -5.309999942779541, -5.334499835968018, -5.360799789428711, -5.389999866485596, -5.469099998474121, -5.470600128173828, -5.471199989318848, -5.4721999168396, -5.5152997970581055, -5.5177998542785645, -5.532100200653076, -5.535299777984619, -5.583899974822998, -5.598899841308594, -5.635799884796143, -5.640100002288818, -5.642499923706055, -5.710999965667725, -5.739500045776367, -4.179599761962891, -4.470600128173828, -5.133600234985352, -4.21999979019165, -4.493000030517578, -4.783400058746338, -4.915200233459473, -4.854599952697754, -5.093900203704834, -5.082799911499023, -4.428599834442139, -5.070199966430664, -4.760700225830078, -5.1768999099731445, -5.157199859619141, -5.136600017547607, -3.2873001098632812, -4.463200092315674, -4.71999979019165, -4.749800205230713, -4.900899887084961, -4.942299842834473, -4.985599994659424, -5.1041998863220215, -5.124100208282471, -5.229100227355957, -5.232800006866455, -5.254899978637695, -5.372000217437744, -5.421000003814697, -5.427499771118164, -5.429100036621094, -5.432600021362305, -5.4394001960754395, -5.452700138092041, -5.5157999992370605, -5.578000068664551, -5.605899810791016, -5.69789981842041, -5.707200050354004, -5.7571001052856445, -5.760000228881836, -5.76140022277832, -5.77810001373291, -5.801199913024902, -5.813300132751465, -4.548299789428711, -3.8552000522613525, -5.264599800109863, -5.350800037384033, -5.310800075531006, -4.0295000076293945, -5.275700092315674, -5.021200180053711, -5.256100177764893, -4.5346999168396, -5.306700229644775, -4.660600185394287, -5.026800155639648, -5.042600154876709, -5.231299877166748, -5.374599933624268, -3.831199884414673, -4.632299900054932, -4.760799884796143, -4.773499965667725, -4.870800018310547, -4.889200210571289, -4.929599761962891, -4.973100185394287, -5.177299976348877, -5.223400115966797, -5.243299961090088, -5.2667999267578125, -5.268700122833252, -5.3043999671936035, -5.361299991607666, -5.447500228881836, -5.480899810791016, -5.641600131988525, -5.696599960327148, -5.705599784851074, -5.736000061035156, -5.779399871826172, -5.780799865722656, -5.781899929046631, -5.799099922180176, -5.826099872589111, -5.84630012512207, -5.852099895477295, -5.858399868011475, -5.900199890136719, -3.9772000312805176, -4.665999889373779, -4.662199974060059, -4.885799884796143, -4.661499977111816, -5.06790018081665, -5.186699867248535, -5.121099948883057, -4.838500022888184, -4.764599800109863, -4.459700107574463, -4.848700046539307, -4.94350004196167, -4.450699806213379, -5.119999885559082, -5.202000141143799, -5.1880998611450195, -2.9798998832702637, -3.184799909591675, -3.75219988822937, -4.1367998123168945, -4.274700164794922, -4.349999904632568, -4.4934000968933105, -4.893499851226807, -4.970099925994873, -5.088799953460693, -5.16349983215332, -5.259900093078613, -5.3155999183654785, -5.390600204467773, -5.419300079345703, -5.4415998458862305, -5.4492998123168945, -5.497399806976318, -5.507999897003174, -5.536499977111816, -5.555500030517578, -5.638500213623047, -5.69950008392334, -5.717400074005127, -5.776299953460693, -5.784599781036377, -5.819900035858154, -5.821800231933594, -5.840199947357178, -5.852399826049805, -3.525399923324585, -4.5767998695373535, -3.798799991607666, -4.732500076293945, -4.559100151062012, -5.090400218963623, -4.644999980926514, -3.6977999210357666, -4.810999870300293, -4.522299766540527, -5.142099857330322, -4.845600128173828, -5.17140007019043, -5.313300132751465, -5.142899990081787, -5.225299835205078, -1.6744999885559082, -3.7132999897003174, -3.838900089263916, -4.064199924468994, -4.066800117492676, -4.213500022888184, -4.30109977722168, -4.3480000495910645, -4.390600204467773, -4.525599956512451, -4.590099811553955, -4.604300022125244, -4.618000030517578, -4.62060022354126, -4.69379997253418, -4.781300067901611, -4.839799880981445, -4.899700164794922, -4.905399799346924, -4.938199996948242, -4.962900161743164, -4.998300075531006, -5.232900142669678, -5.294600009918213, -5.326000213623047, -5.343599796295166, -5.3470001220703125, -5.3516998291015625, -5.374499797821045, -5.422999858856201, -4.286099910736084, -4.475800037384033, -3.801100015640259, -3.984299898147583, -4.106100082397461, -4.277599811553955, -4.3277997970581055, -4.378799915313721, -4.599599838256836, -4.614999771118164, -4.619200229644775, -4.636499881744385, -4.642499923706055, -4.857500076293945, -4.85890007019043, -4.927499771118164, -4.958799839019775, -4.987299919128418, -4.987299919128418, -5.0081000328063965, -5.042099952697754, -5.184500217437744, -5.216100215911865, -5.271699905395508, -5.28000020980835, -5.374100208282471, -5.39900016784668, -5.418399810791016, -5.445000171661377, -5.445099830627441, -5.562300205230713, -5.564499855041504, -3.106800079345703, -4.40939998626709, -4.824999809265137, -4.674900054931641, -5.264400005340576, -5.292300224304199, -5.372399806976318]}, \"token.table\": {\"Topic\": [9, 2, 3, 1, 9, 2, 3, 3, 8, 6, 6, 1, 2, 5, 1, 2, 3, 4, 10, 6, 5, 3, 2, 7, 7, 1, 2, 10, 1, 2, 6, 7, 10, 2, 3, 8, 9, 1, 5, 1, 1, 1, 1, 2, 5, 1, 3, 4, 6, 6, 7, 2, 4, 4, 5, 5, 4, 1, 2, 3, 4, 5, 6, 5, 5, 1, 4, 4, 5, 2, 7, 4, 6, 2, 2, 2, 6, 1, 7, 7, 2, 5, 6, 7, 3, 9, 8, 3, 3, 4, 4, 1, 2, 5, 4, 8, 3, 4, 2, 4, 4, 6, 3, 4, 5, 10, 2, 6, 7, 1, 1, 2, 5, 7, 10, 7, 9, 9, 3, 4, 1, 2, 5, 2, 7, 1, 4, 10, 4, 8, 2, 4, 4, 3, 1, 4, 5, 8, 4, 5, 4, 2, 2, 10, 5, 1, 2, 3, 5, 6, 9, 5, 1, 2, 6, 3, 10, 1, 2, 2, 9, 2, 3, 4, 2, 9, 1, 2, 9, 9, 1, 1, 2, 2, 8, 8, 4, 6, 3, 1, 2, 3, 8, 1, 2, 3, 8, 5, 7, 8, 7, 1, 2, 3, 7, 8, 10, 1, 7, 10, 1, 2, 3, 4, 2, 5, 7, 3, 10, 10, 1, 10, 3, 6, 8, 8, 9, 1, 3, 4, 7, 1, 2, 3, 1, 2, 8, 2, 1, 8, 6, 7, 3, 2, 5, 7, 1, 7, 10, 4, 1, 4, 1, 1, 3, 4, 1, 4, 5, 6, 8, 10, 1, 8, 8, 8, 9, 1, 3, 4, 1, 2, 3, 4, 2, 8, 9, 1, 6, 3, 9, 2, 3, 5, 7, 2, 1, 3, 4, 3, 7, 4, 9, 6, 4, 3, 2, 1, 2, 3, 5, 7, 5, 1, 7, 6, 6, 2, 7, 1, 2, 3, 2, 7, 10, 1, 7, 8, 8, 10, 2, 6, 9, 7, 2, 6, 1, 2, 1, 2, 1, 5, 1, 3, 4, 1, 3, 5, 8, 1, 1, 3, 5, 1, 8, 1, 4, 5, 8, 10, 10, 3, 4, 3, 4, 5, 1, 2, 4, 6, 2, 7, 8, 3, 1, 2, 3, 5, 6, 1, 1, 2, 4, 4, 1, 2, 3, 5, 7, 10, 3, 4, 5, 4, 10, 5, 5, 3, 1, 4, 2, 7, 2, 1, 3, 4, 6, 1, 2, 3, 4, 5, 6, 1, 1, 3, 8, 4, 9, 1, 2, 3, 4, 6, 7, 8, 7, 8, 1, 3, 5, 1, 4, 5, 10, 1, 4, 10, 3, 10, 1, 2, 3, 5, 6, 9, 6, 1, 7, 1, 5, 6, 10, 4, 8, 8, 1, 2, 7, 7, 4, 6, 1, 2, 2, 1, 8, 4, 8, 8, 8, 10, 10, 2, 8, 8, 8, 9, 4, 9, 4, 6, 2, 4, 5, 9, 6, 1, 4, 5, 4, 9, 6, 1, 4, 1, 2, 3, 4, 4, 3, 1, 3, 5, 10, 6, 6, 7, 2, 2, 3, 6, 6, 7, 5, 1, 10, 1, 2, 3, 4, 5, 8, 1, 4, 5, 6, 2, 1, 1, 2, 4, 2, 2, 1, 9, 1, 3, 7, 10, 3, 1, 3, 10, 9, 6, 5, 1, 2, 6, 7, 6, 7, 9, 1, 3, 4, 5, 8, 7, 1, 6, 7, 6, 5, 10, 10, 1, 2, 7, 2, 10, 8, 3, 5, 8, 6, 3, 10, 6, 6, 1, 2, 3, 5, 5, 1, 3, 2, 5, 1, 2, 3, 4, 7, 7, 8, 10, 4, 2, 2, 8, 4, 7, 8, 3, 4, 10, 7, 1, 2, 3, 7, 3, 10, 10, 10, 2, 4, 9, 4, 9, 9, 5, 8, 8, 2, 6, 7, 2, 1, 7, 9, 8, 4, 2, 3, 4, 6, 1, 2, 7, 8, 7, 6, 5, 6, 8, 3, 4, 5, 9, 10, 1, 2, 3, 7, 7, 1, 3, 4, 2, 1, 2, 1, 2, 1, 2, 3, 4, 3, 2, 8, 9, 1, 2, 4, 5, 2, 1, 2, 3, 4, 6, 7, 7, 6, 5, 7, 3, 1, 2, 3, 4, 5, 6, 3, 2, 10, 3, 4, 9, 7, 3, 7, 6, 8, 1, 3, 4, 2, 7, 5, 1, 2, 3, 7, 7, 1, 1, 2, 9, 2, 4, 1, 3, 8, 3, 1, 8, 6, 5, 7, 1, 1, 2, 3, 4, 1, 3, 4, 7, 1, 2, 1, 9, 1, 2, 4, 1, 5, 7, 8], \"Freq\": [0.9975107908248901, 0.9340450763702393, 0.06507690995931625, 0.9979653358459473, 0.9960095286369324, 0.008375058881938457, 0.9907694458961487, 0.9985971450805664, 0.9903934597969055, 0.9974206686019897, 0.996933102607727, 0.21440520882606506, 0.7845712900161743, 0.9975172281265259, 0.548724353313446, 0.14054234325885773, 0.22457364201545715, 0.0859219953417778, 0.9829074740409851, 0.9927700757980347, 0.9965079426765442, 0.9991586804389954, 0.9992075562477112, 0.9957168698310852, 0.9982210993766785, 0.9993637800216675, 0.0005535107920877635, 0.985383927822113, 0.9984617233276367, 0.0412035807967186, 0.21930937469005585, 0.7390061616897583, 0.9918668866157532, 0.9968151450157166, 0.9994983673095703, 0.9938949346542358, 0.9998094439506531, 0.9976933002471924, 0.0015170197002589703, 0.9992688894271851, 0.999845027923584, 0.998593270778656, 0.009713275358080864, 0.9895884990692139, 0.9979716539382935, 0.08135077357292175, 0.14363496005535126, 0.651441752910614, 0.12329726666212082, 0.9974632263183594, 0.9974588751792908, 0.9980089664459229, 0.9974299669265747, 0.3584948182106018, 0.6409695148468018, 0.999297022819519, 0.9993472695350647, 0.25124871730804443, 0.4421977400779724, 0.07603004574775696, 0.04369543120265007, 0.07865177094936371, 0.10749075561761856, 0.9975144267082214, 0.9963831901550293, 0.9971562027931213, 0.9980952143669128, 0.32298603653907776, 0.6751946210861206, 0.6317168474197388, 0.3677038550376892, 0.9994362592697144, 0.9991005063056946, 0.9981410503387451, 0.9986299276351929, 0.31144481897354126, 0.6874855756759644, 0.23825491964817047, 0.7602497935295105, 0.9957180619239807, 0.9996047616004944, 0.9963270425796509, 0.8078526854515076, 0.18946382403373718, 0.9980932474136353, 0.9983087778091431, 0.9970037937164307, 0.9979358911514282, 0.911830484867096, 0.08655867725610733, 0.9988121390342712, 0.8674750924110413, 0.13222907483577728, 0.9952406883239746, 0.9975976347923279, 0.989738404750824, 0.09742660075426102, 0.9013820290565491, 0.9990304112434387, 0.9984633922576904, 0.9958034157752991, 0.9948155283927917, 0.9993724226951599, 0.09062694013118744, 0.8531432747840881, 0.05520951747894287, 0.21655938029289246, 0.15603035688400269, 0.6268116235733032, 0.9990309476852417, 0.07633403688669205, 0.17865413427352905, 0.6561478972434998, 0.08607880771160126, 0.9914738535881042, 0.997090756893158, 0.9955346584320068, 0.9950879812240601, 0.5161287188529968, 0.48292192816734314, 0.9637241363525391, 0.035638488829135895, 0.9978142976760864, 0.504838228225708, 0.494978129863739, 0.2628910541534424, 0.4282580018043518, 0.30529284477233887, 0.9979537129402161, 0.9907345771789551, 0.9986209273338318, 0.9970541596412659, 0.9990220069885254, 0.9979566931724548, 0.18760129809379578, 0.04541926458477974, 0.12440928816795349, 0.641793966293335, 0.9873523116111755, 0.01219472661614418, 0.9989133477210999, 0.9974794387817383, 0.6686643958091736, 0.328665554523468, 0.9956087470054626, 0.9977041482925415, 0.0011097933165729046, 0.9990983605384827, 0.9975412487983704, 0.9911981225013733, 0.007792437914758921, 0.9980659484863281, 0.994644820690155, 0.004423920530825853, 0.9957684874534607, 0.998996913433075, 0.9834965467453003, 0.7207157015800476, 0.27909615635871887, 0.9994918704032898, 0.9935258626937866, 0.8526095151901245, 0.0948929414153099, 0.052084095776081085, 0.9977322816848755, 0.9957612752914429, 0.9982724785804749, 0.999027669429779, 0.9974572062492371, 0.9984756708145142, 0.9992647767066956, 0.1319228708744049, 0.8673226833343506, 0.9992809891700745, 0.9930415153503418, 0.9976651668548584, 0.9981203079223633, 0.9969056844711304, 0.9994863271713257, 0.22785115242004395, 0.12095802277326584, 0.18003053963184357, 0.46695420145988464, 0.6709701418876648, 0.09238884598016739, 0.23603662848472595, 0.9955331683158875, 0.06628832966089249, 0.9214078187942505, 0.011600458063185215, 0.9970942139625549, 0.8034329414367676, 0.033549945801496506, 0.056505173444747925, 0.042378880083560944, 0.0642746314406395, 0.9956174492835999, 0.5602089166641235, 0.01155069936066866, 0.4273758828639984, 0.05922822654247284, 0.4567509889602661, 0.47115787863731384, 0.012272515334188938, 0.44770172238349915, 0.1162540391087532, 0.43533429503440857, 0.9974797964096069, 0.993221640586853, 0.978175938129425, 0.9987937211990356, 0.9931598901748657, 0.9991279244422913, 0.9971851110458374, 0.9992809891700745, 0.9938446879386902, 0.9927715063095093, 0.925421416759491, 0.01948615536093712, 0.055039841681718826, 0.9969695210456848, 0.7586287260055542, 0.19930076599121094, 0.041635796427726746, 0.9998388886451721, 0.2348605990409851, 0.7627582550048828, 0.9984602332115173, 0.9761756062507629, 0.02367769554257393, 0.6108660101890564, 0.38857707381248474, 0.9989848136901855, 0.07032067328691483, 0.9273538589477539, 0.9970846176147461, 0.9984432458877563, 0.998833417892456, 0.9808188676834106, 0.9973541498184204, 0.9782956838607788, 0.02119208127260208, 0.9991326928138733, 0.533915638923645, 0.3494720458984375, 0.11604943126440048, 0.25103503465652466, 0.3111419975757599, 0.36123114824295044, 0.034178476780653, 0.025339215993881226, 0.0170892383903265, 0.6065618395805359, 0.39049896597862244, 0.9980237483978271, 0.08847542107105255, 0.9068730473518372, 0.7471157312393188, 0.09735336899757385, 0.1553848534822464, 0.20906607806682587, 0.5895074605941772, 0.10541641712188721, 0.09540480375289917, 0.9974884390830994, 0.9933217763900757, 0.9946650266647339, 0.9982077479362488, 0.9967988133430481, 0.9988260269165039, 0.9907463788986206, 0.08725457638502121, 0.8011556267738342, 0.08130539953708649, 0.029745878651738167, 0.9973626732826233, 0.048951804637908936, 0.8822979927062988, 0.06760010868310928, 0.9992467761039734, 0.993740439414978, 0.9979684948921204, 0.9967779517173767, 0.9980289936065674, 0.996842086315155, 0.9987807869911194, 0.9984217286109924, 0.01952393539249897, 0.7856700420379639, 0.1299351453781128, 0.04712674021720886, 0.017504217103123665, 0.9986070990562439, 0.9971377849578857, 0.9929969906806946, 0.9996303915977478, 0.9974871277809143, 0.06684836000204086, 0.9324923157691956, 0.9909315705299377, 0.00858846865594387, 0.0004442311474122107, 0.20885688066482544, 0.7898150682449341, 0.9872437119483948, 0.8229407072067261, 0.02746872790157795, 0.14911594986915588, 0.9893233180046082, 0.9957717061042786, 0.7727756500244141, 0.2265397161245346, 0.9973630309104919, 0.9954853057861328, 0.11050330847501755, 0.8870130181312561, 0.9955081343650818, 0.004039742983877659, 0.027043696492910385, 0.972671627998352, 0.3524874150753021, 0.6467124819755554, 0.7912892699241638, 0.14109237492084503, 0.06761614978313446, 0.1452741026878357, 0.7350084185600281, 0.07224441319704056, 0.04790118709206581, 0.9994955658912659, 0.8572638034820557, 0.14018714427947998, 0.0023912519682198763, 0.7180270552635193, 0.2812784016132355, 0.9991883635520935, 0.2317063808441162, 0.6939606070518494, 0.04518274590373039, 0.027804765850305557, 0.9932975172996521, 0.24100665748119354, 0.7585971355438232, 0.9601951837539673, 0.01941223070025444, 0.020359167829155922, 0.8367146253585815, 0.15610119700431824, 0.002291113371029496, 0.004734967835247517, 0.8966385126113892, 0.0814564973115921, 0.02098121866583824, 0.996901273727417, 0.4953068196773529, 0.4360716640949249, 0.06837251037359238, 0.9965646862983704, 0.9969907999038696, 0.9992769360542297, 0.36992141604423523, 0.613858163356781, 0.01564239151775837, 0.9978302121162415, 0.30285221338272095, 0.008306073024868965, 0.6887651085853577, 0.9950529932975769, 0.9976877570152283, 0.9951179623603821, 0.11234797537326813, 0.2712792754173279, 0.6165437698364258, 0.9974690675735474, 0.9913952946662903, 0.9960043430328369, 0.9965125918388367, 0.998784601688385, 0.9923479557037354, 0.007355678826570511, 0.0880037248134613, 0.9086896181106567, 0.9985259771347046, 0.4904351532459259, 0.18716666102409363, 0.32110780477523804, 0.0008773437584750354, 0.30115434527397156, 0.047066859900951385, 0.22099360823631287, 0.10112020373344421, 0.3140242099761963, 0.015443813055753708, 0.9993147850036621, 0.7260497212409973, 0.11442737281322479, 0.1587478369474411, 0.9965943694114685, 0.9975193738937378, 0.3917732834815979, 0.0041457489132881165, 0.42493927478790283, 0.053894735872745514, 0.004974898882210255, 0.07876922935247421, 0.04104291647672653, 0.9975152015686035, 0.9953562021255493, 0.07621095329523087, 0.3519560396671295, 0.5708893537521362, 0.6323080062866211, 0.10662448406219482, 0.2609820067882538, 0.997245728969574, 0.9995495080947876, 0.00029363969224505126, 0.9892823696136475, 0.998256504535675, 0.9902716279029846, 0.2606162428855896, 0.4389050304889679, 0.15993553400039673, 0.07446178793907166, 0.05034036189317703, 0.015206984244287014, 0.9941260814666748, 0.999147355556488, 0.9955809712409973, 0.342129647731781, 0.5470153093338013, 0.11077550053596497, 0.9907621741294861, 0.9983844757080078, 0.9952650666236877, 0.9900330901145935, 0.2734089493751526, 0.6153723001480103, 0.1110774427652359, 0.9962359666824341, 0.9976773858070374, 0.9947001338005066, 0.08727732300758362, 0.9120873808860779, 0.9987558126449585, 0.6357218027114868, 0.36219164729118347, 0.9970037937164307, 0.9873059391975403, 0.9916790723800659, 0.990297257900238, 0.9937049746513367, 0.9860818386077881, 0.1377204954624176, 0.8609696626663208, 0.9991122484207153, 0.997722327709198, 0.987493097782135, 0.998479962348938, 0.9930266737937927, 0.2047661542892456, 0.7912569046020508, 0.1860581636428833, 0.043218232691287994, 0.7706030607223511, 0.9948287010192871, 0.9959238171577454, 0.9981682300567627, 0.0063459123484790325, 0.9926820397377014, 0.9961841106414795, 0.9956704378128052, 0.9980020523071289, 0.9969212412834167, 0.0025529353879392147, 0.5106633305549622, 0.008553293533623219, 0.14508920907974243, 0.33547917008399963, 0.9972872138023376, 0.9995083808898926, 0.2913596034049988, 0.3782072067260742, 0.005603069439530373, 0.3221764862537384, 0.9925650954246521, 0.7060424089431763, 0.29240140318870544, 0.9982895255088806, 0.30761584639549255, 0.4424351453781128, 0.2493840456008911, 0.964361310005188, 0.034874703735113144, 0.9954125881195068, 0.9992285966873169, 0.9915927052497864, 0.43392401933670044, 0.37332427501678467, 0.1559882014989853, 0.036285027861595154, 0.9963395595550537, 0.9929764270782471, 0.023071322590112686, 0.27172890305519104, 0.6729136109352112, 0.03204350546002388, 0.9976364374160767, 0.9996820688247681, 0.130060613155365, 0.8693525195121765, 0.998414158821106, 0.9984625577926636, 0.9977391362190247, 0.9987329244613647, 0.9942353367805481, 0.39253944158554077, 0.2137937992811203, 0.36712950468063354, 0.02628612332046032, 0.9970151782035828, 0.46916431188583374, 0.31491851806640625, 0.21530142426490784, 0.9962113499641418, 0.9980934858322144, 0.9979302883148193, 0.499664843082428, 0.24582813680171967, 0.1981249451637268, 0.05605996027588844, 0.997702956199646, 0.9968276023864746, 0.9965187907218933, 0.11996923387050629, 0.330964058637619, 0.3695555627346039, 0.025587843731045723, 0.15394653379917145, 0.993118941783905, 0.9997055530548096, 0.9793950915336609, 0.01889508217573166, 0.9980098605155945, 0.999064028263092, 0.9952981472015381, 0.9918679594993591, 0.574922502040863, 0.4170619249343872, 0.007893027737736702, 0.9565757513046265, 0.04191182553768158, 0.9977251291275024, 0.9991113543510437, 0.9947916269302368, 0.9989020228385925, 0.9968435764312744, 0.9984354376792908, 0.993205726146698, 0.9976708292961121, 0.9985074400901794, 0.9296918511390686, 0.0701574981212616, 0.9981301426887512, 0.9992707371711731, 0.9967770576477051, 0.25050997734069824, 0.7493228316307068, 0.9996047019958496, 0.9971078038215637, 0.13480724394321442, 0.08395889401435852, 0.6078150868415833, 0.13362471759319305, 0.03902314975857735, 0.8145659565925598, 0.18272694945335388, 0.9887837171554565, 0.9955004453659058, 0.997069776058197, 0.9973780512809753, 0.9891003370285034, 0.9988226890563965, 0.9939102530479431, 0.9874232411384583, 0.6187751889228821, 0.3804686665534973, 0.9912950992584229, 0.9991109371185303, 0.9984626173973083, 0.13454008102416992, 0.8178970813751221, 0.047288838773965836, 0.2784650921821594, 0.7197424173355103, 0.9852820634841919, 0.9874529242515564, 0.9724022746086121, 0.026939906179904938, 0.9936152100563049, 0.9983749985694885, 0.9973583221435547, 0.9938860535621643, 0.15732203423976898, 0.8390508890151978, 0.9915279150009155, 0.5224149823188782, 0.3175849914550781, 0.15953107178211212, 0.9980458617210388, 0.9891356229782104, 0.010640841908752918, 0.9879573583602905, 0.9917119145393372, 0.9975702166557312, 0.10015245527029037, 0.14021344482898712, 0.6556647419929504, 0.10362441092729568, 0.9527493119239807, 0.031354304403066635, 0.015808893367648125, 0.993399441242218, 0.992537796497345, 0.9973531365394592, 0.99835205078125, 0.9963682293891907, 0.999423086643219, 0.1786675900220871, 0.4378337860107422, 0.08442534506320953, 0.23364223539829254, 0.06577323377132416, 0.9290851354598999, 0.07073281705379486, 0.9953649044036865, 0.9967800974845886, 0.9970735907554626, 0.2210809886455536, 0.5815232396125793, 0.1970028579235077, 0.99817955493927, 0.8504723310470581, 0.1491052359342575, 0.8195860981941223, 0.1801951378583908, 0.9785705804824829, 0.0070485277101397514, 0.012922300957143307, 0.0013705469900742173, 0.9979051947593689, 0.18772463500499725, 0.8080321550369263, 0.9906495809555054, 0.003911274950951338, 0.9175851345062256, 0.0782255008816719, 0.9953566193580627, 0.9982969760894775, 0.8284026384353638, 0.04613665118813515, 0.0981505811214447, 0.027035489678382874, 0.9951152801513672, 0.99538254737854, 0.9968388080596924, 0.9959263801574707, 0.9966952800750732, 0.9946321249008179, 0.9981507062911987, 0.07086654752492905, 0.07581072300672531, 0.35165464878082275, 0.41160279512405396, 0.0325491689145565, 0.05727006122469902, 0.9990843534469604, 0.9979189038276672, 0.9913877844810486, 0.8943848013877869, 0.10402773320674896, 0.9928577542304993, 0.9941379427909851, 0.9981660842895508, 0.9977158308029175, 0.9704158902168274, 0.02723974548280239, 0.9663565158843994, 0.010993512347340584, 0.022523293271660805, 0.06890062987804413, 0.9309987425804138, 0.9947666525840759, 0.7881470322608948, 0.18549726903438568, 0.006923692766577005, 0.019040154293179512, 0.9970158934593201, 0.9994268417358398, 0.979025661945343, 0.02085399627685547, 0.9861146807670593, 0.4219253957271576, 0.5770663619041443, 0.053875137120485306, 0.24243812263011932, 0.7031634449958801, 0.9991936087608337, 0.10750217735767365, 0.8881727457046509, 0.9959516525268555, 0.9987868666648865, 0.9982239007949829, 0.9976754784584045, 0.019124198704957962, 0.9033907055854797, 0.07649679481983185, 0.0009106761426664889, 0.6189943552017212, 0.10321017354726791, 0.26962658762931824, 0.008000788278877735, 0.24272899329662323, 0.7560268640518188, 0.9940325617790222, 0.0059256786480546, 0.9935137629508972, 0.006326386239379644, 9.037694690050557e-05, 0.6605084538459778, 0.023831382393836975, 0.08882606029510498, 0.22666895389556885], \"Term\": [\"_\", \"accept\", \"accept\", \"accord\", \"ad\", \"address\", \"address\", \"advance\", \"advertising\", \"agency\", \"agent\", \"agree\", \"agree\", \"air\", \"also\", \"also\", \"also\", \"also\", \"aluminum\", \"amendment\", \"announcement\", \"application\", \"argument\", \"arm\", \"armenian\", \"article\", \"article\", \"astronomy\", \"atheist\", \"attack\", \"attack\", \"attack\", \"attitude\", \"authority\", \"available\", \"award\", \"ax\", \"back\", \"back\", \"bad\", \"be\", \"belief\", \"believe\", \"believe\", \"bike\", \"bit\", \"bit\", \"bit\", \"bit\", \"block\", \"border\", \"brain\", \"bus\", \"buy\", \"buy\", \"car\", \"card\", \"case\", \"case\", \"case\", \"case\", \"case\", \"case\", \"catch\", \"cd\", \"chance\", \"character\", \"cheap\", \"cheap\", \"child\", \"child\", \"chip\", \"choose\", \"christian\", \"church\", \"citizen\", \"citizen\", \"city\", \"city\", \"civilian\", \"claim\", \"clean\", \"clearly\", \"clearly\", \"client\", \"clipper_chip\", \"coach\", \"code\", \"color\", \"color\", \"com\", \"come\", \"come\", \"commercial\", \"communication\", \"complex\", \"computer\", \"computer\", \"conclusion\", \"connect\", \"controller\", \"cop\", \"copy\", \"cost\", \"cost\", \"cost\", \"country\", \"country\", \"country\", \"couple\", \"cover\", \"cover\", \"cover\", \"cover\", \"crew\", \"crime\", \"crypto\", \"cryptographic\", \"datum\", \"datum\", \"day\", \"day\", \"dealer\", \"death\", \"death\", \"development\", \"development\", \"development\", \"device\", \"devil\", \"die\", \"digital\", \"disk\", \"display\", \"division\", \"division\", \"division\", \"division\", \"drive\", \"drive\", \"driver\", \"drug\", \"earth\", \"earth\", \"edge\", \"else\", \"else\", \"email\", \"encrypt\", \"encryption\", \"encryption\", \"engine\", \"enough\", \"enough\", \"ensure\", \"entry\", \"environmental\", \"even\", \"even\", \"evidence\", \"examination\", \"exist\", \"exist\", \"exist\", \"existence\", \"expansion\", \"experience\", \"explain\", \"export\", \"external\", \"face\", \"fact\", \"fact\", \"faith\", \"familiar\", \"fan\", \"fast\", \"federal\", \"file\", \"final\", \"final\", \"final\", \"final\", \"find\", \"find\", \"find\", \"finish\", \"fire\", \"fire\", \"fire\", \"firearm\", \"first\", \"first\", \"first\", \"first\", \"first\", \"flight\", \"fly\", \"fly\", \"fly\", \"follow\", \"follow\", \"follow\", \"follow\", \"force\", \"force\", \"force\", \"format\", \"frequency\", \"frequently_aske\", \"friend\", \"fuel\", \"function\", \"fund\", \"game\", \"gay\", \"georgia_institute\", \"get\", \"get\", \"get\", \"girl\", \"give\", \"give\", \"give\", \"go\", \"goal\", \"goal\", \"god\", \"good\", \"good\", \"government\", \"government\", \"graphic\", \"ground\", \"ground\", \"guarantee\", \"guess\", \"gun\", \"handbook\", \"hardware\", \"have\", \"have\", \"hear\", \"help\", \"help\", \"help\", \"high\", \"high\", \"high\", \"high\", \"high\", \"high\", \"hit\", \"hit\", \"hockey\", \"hole\", \"hole\", \"host\", \"host\", \"host\", \"however\", \"however\", \"however\", \"however\", \"human\", \"ice\", \"icon\", \"ill\", \"illegal\", \"image\", \"import\", \"include\", \"include\", \"include\", \"include\", \"indeed\", \"info\", \"info\", \"info\", \"information\", \"inhabitant\", \"instal\", \"install\", \"insurance\", \"internal\", \"internet\", \"israeli\", \"issue\", \"issue\", \"issue\", \"issue\", \"issue\", \"item\", \"job\", \"justify\", \"key\", \"keyboard\", \"kill\", \"kill\", \"know\", \"know\", \"know\", \"land\", \"land\", \"landing\", \"last\", \"last\", \"last\", \"last_night\", \"launch\", \"law\", \"law\", \"law_enforcement\", \"lebanese_resistance\", \"legal\", \"legal\", \"let\", \"let\", \"life\", \"life\", \"light\", \"light\", \"line\", \"line\", \"line\", \"list\", \"list\", \"list\", \"list\", \"little\", \"look\", \"look\", \"look\", \"lose\", \"lose\", \"lot\", \"low\", \"low\", \"low\", \"low\", \"lunar\", \"machine\", \"machine\", \"mail\", \"mail\", \"mail\", \"make\", \"make\", \"make\", \"make\", \"man\", \"man\", \"man\", \"manager\", \"many\", \"many\", \"many\", \"market\", \"master\", \"maybe\", \"mean\", \"mean\", \"mean\", \"memory\", \"message\", \"message\", \"message\", \"mile\", \"military\", \"mission\", \"model\", \"model\", \"model\", \"monitor\", \"moon\", \"motorcycle\", \"mount\", \"mouse\", \"much\", \"much\", \"murder\", \"murder\", \"nature\", \"need\", \"need\", \"need\", \"need\", \"new\", \"new\", \"new\", \"new\", \"new\", \"new\", \"news\", \"next\", \"next\", \"next\", \"normal\", \"notice\", \"number\", \"number\", \"number\", \"number\", \"number\", \"number\", \"number\", \"occupy\", \"offense\", \"offer\", \"offer\", \"offer\", \"old\", \"old\", \"old\", \"orbit\", \"organization\", \"organization\", \"ozone\", \"package\", \"pad\", \"part\", \"part\", \"part\", \"part\", \"part\", \"part\", \"patent\", \"patient\", \"patrol\", \"pay\", \"pay\", \"pay\", \"payload\", \"pc\", \"pen\", \"penguin\", \"people\", \"people\", \"people\", \"percent\", \"performance\", \"permit\", \"person\", \"person\", \"physical\", \"pick\", \"pick\", \"pin\", \"pit\", \"pitch\", \"pitcher\", \"plane\", \"planetary\", \"play\", \"play\", \"player\", \"playoff\", \"politic\", \"port\", \"portion\", \"possibility\", \"possibility\", \"power\", \"power\", \"power\", \"predict\", \"president\", \"pretty\", \"price\", \"price\", \"printer\", \"privacy\", \"private\", \"probably\", \"probably\", \"problem\", \"problem\", \"problem\", \"problem\", \"product\", \"program\", \"project\", \"project\", \"project\", \"project\", \"proposal\", \"protect\", \"protect\", \"prove\", \"provide\", \"provide\", \"provide\", \"public\", \"public\", \"purchase\", \"put\", \"qualify\", \"question\", \"question\", \"question\", \"question\", \"radio\", \"ranger\", \"rate\", \"rate\", \"rate\", \"rate\", \"reality\", \"really\", \"reason\", \"reason\", \"recommend\", \"religion\", \"religious\", \"remember\", \"remote\", \"report\", \"report\", \"report\", \"report\", \"request\", \"research\", \"research\", \"research\", \"resistance\", \"review\", \"ride\", \"right\", \"right\", \"right\", \"right\", \"ripem\", \"rocket\", \"rsa\", \"run\", \"run\", \"run\", \"run\", \"run\", \"russian\", \"s\", \"safe\", \"safe\", \"safety\", \"sale\", \"satellite\", \"saturn\", \"say\", \"say\", \"say\", \"science\", \"science\", \"score\", \"screen\", \"screw\", \"season\", \"secret\", \"section\", \"sector\", \"secure\", \"security\", \"see\", \"see\", \"self\", \"sell\", \"seller\", \"send\", \"send\", \"sense\", \"server\", \"set\", \"set\", \"set\", \"set\", \"set\", \"shoot\", \"shoot\", \"shuttle\", \"signal\", \"sin\", \"slave\", \"slip\", \"slow\", \"snip\", \"snow\", \"software\", \"software\", \"solar\", \"soldier\", \"sorry\", \"source\", \"source\", \"source\", \"space\", \"space\", \"space_shuttle\", \"spacecraft\", \"speak\", \"speak\", \"specification\", \"speed\", \"sphere\", \"stack\", \"star\", \"star\", \"stat\", \"state\", \"state\", \"state\", \"statement\", \"still\", \"still\", \"subsequent\", \"super\", \"switch\", \"system\", \"system\", \"system\", \"system\", \"take\", \"take\", \"take\", \"talent\", \"tank\", \"tap\", \"tape\", \"tax\", \"team\", \"technology\", \"technology\", \"technology\", \"technology\", \"technology\", \"tell\", \"tell\", \"telnet\", \"terrorism\", \"terrorist\", \"thank\", \"thank\", \"thank\", \"therefore\", \"thing\", \"thing\", \"think\", \"think\", \"time\", \"time\", \"time\", \"time\", \"tool\", \"trade\", \"trade\", \"trivial\", \"true\", \"true\", \"true\", \"trust\", \"truth\", \"try\", \"try\", \"try\", \"try\", \"tube\", \"turk\", \"turkish\", \"typical\", \"unit\", \"united_state\", \"update\", \"use\", \"use\", \"use\", \"use\", \"use\", \"use\", \"user\", \"valid\", \"velocity\", \"version\", \"version\", \"vice_president\", \"victim\", \"video\", \"village\", \"vote\", \"vote\", \"want\", \"want\", \"want\", \"war\", \"war\", \"warranty\", \"way\", \"way\", \"way\", \"way\", \"weapon\", \"week\", \"well\", \"well\", \"white_house\", \"will\", \"will\", \"win\", \"win\", \"win\", \"window\", \"wing\", \"wing\", \"winner\", \"wire\", \"withdraw\", \"wonder\", \"word\", \"word\", \"word\", \"word\", \"work\", \"work\", \"work\", \"work\", \"world\", \"world\", \"would\", \"would\", \"write\", \"write\", \"write\", \"year\", \"year\", \"year\", \"year\"]}, \"R\": 30, \"lambda.step\": 0.01, \"plot.opts\": {\"xlab\": \"PC1\", \"ylab\": \"PC2\"}, \"topic.order\": [2, 1, 7, 9, 6, 5, 3, 10, 4, 8]};\n",
       "\n",
       "function LDAvis_load_lib(url, callback){\n",
       "  var s = document.createElement('script');\n",
       "  s.src = url;\n",
       "  s.async = true;\n",
       "  s.onreadystatechange = s.onload = callback;\n",
       "  s.onerror = function(){console.warn(\"failed to load library \" + url);};\n",
       "  document.getElementsByTagName(\"head\")[0].appendChild(s);\n",
       "}\n",
       "\n",
       "if(typeof(LDAvis) !== \"undefined\"){\n",
       "   // already loaded: just create the visualization\n",
       "   !function(LDAvis){\n",
       "       new LDAvis(\"#\" + \"ldavis_el370828728070838488235805937\", ldavis_el370828728070838488235805937_data);\n",
       "   }(LDAvis);\n",
       "}else if(typeof define === \"function\" && define.amd){\n",
       "   // require.js is available: use it to load d3/LDAvis\n",
       "   require.config({paths: {d3: \"https://cdnjs.cloudflare.com/ajax/libs/d3/3.5.5/d3.min\"}});\n",
       "   require([\"d3\"], function(d3){\n",
       "      window.d3 = d3;\n",
       "      LDAvis_load_lib(\"https://cdn.rawgit.com/bmabey/pyLDAvis/files/ldavis.v1.0.0.js\", function(){\n",
       "        new LDAvis(\"#\" + \"ldavis_el370828728070838488235805937\", ldavis_el370828728070838488235805937_data);\n",
       "      });\n",
       "    });\n",
       "}else{\n",
       "    // require.js not available: dynamically load d3 & LDAvis\n",
       "    LDAvis_load_lib(\"https://cdnjs.cloudflare.com/ajax/libs/d3/3.5.5/d3.min.js\", function(){\n",
       "         LDAvis_load_lib(\"https://cdn.rawgit.com/bmabey/pyLDAvis/files/ldavis.v1.0.0.js\", function(){\n",
       "                 new LDAvis(\"#\" + \"ldavis_el370828728070838488235805937\", ldavis_el370828728070838488235805937_data);\n",
       "            })\n",
       "         });\n",
       "}\n",
       "</script>"
      ],
      "text/plain": [
       "<IPython.core.display.HTML object>"
      ]
     },
     "execution_count": 15,
     "metadata": {},
     "output_type": "execute_result"
    }
   ],
   "source": [
    "pyLDAvis.display(vis) "
   ]
  }
 ],
 "metadata": {
  "kernelspec": {
   "display_name": "Python 3",
   "language": "python",
   "name": "python3"
  },
  "language_info": {
   "codemirror_mode": {
    "name": "ipython",
    "version": 3
   },
   "file_extension": ".py",
   "mimetype": "text/x-python",
   "name": "python",
   "nbconvert_exporter": "python",
   "pygments_lexer": "ipython3",
   "version": "3.7.4"
  }
 },
 "nbformat": 4,
 "nbformat_minor": 4
}
